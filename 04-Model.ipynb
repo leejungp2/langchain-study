{
 "cells": [
  {
   "cell_type": "markdown",
   "metadata": {},
   "source": [
    "# 04. 모델-LLM(Large Language Model)\n",
    "- 이전 프롬프트 단계에서 구성된 입력을 기반으로 대규모 언어 모델을 활용하여 응답을 생성하는 과정\n",
    "- 언어 모델의 능력을 최대한 활용하여 사용자의 질문에 대해 정확하고 자연스러운 답변을 생성\n",
    "\n",
    "- LLM의 필요성\n",
    "    - 사용자 의도 이해: 자연어 이해(NLU)와 자연어 생성(NLG) 능력이 결합되어, 보다 자연스럽고 유익한 응답을 제공\n",
    "    - 문맥적 적응성: 1) LLM은 주어진 문맥을 고려하여 응답을 생성 2) 사전학습된 지식 외에 사용자가 제공한 정보에 기반한 답변을 문맥을 참고하여 답변\n",
    "- LLM의 중요성\n",
    "    - LM의 성능은 RAG 시스템의 전체적인 성능과 사용자 만족도에 직접적으로 영향을 미치며, 이는 RAG 시스템을 사용하는 많은 응용 분야에서 매우 중요한 역할을 함\n",
    "\n"
   ]
  },
  {
   "cell_type": "code",
   "execution_count": 4,
   "metadata": {},
   "outputs": [
    {
     "name": "stderr",
     "output_type": "stream",
     "text": [
      "/var/folders/wd/rcmpfdjj6pb46wxhh3g97cvr0000gn/T/ipykernel_14943/2406959128.py:5: LangChainDeprecationWarning: The class `ChatOpenAI` was deprecated in LangChain 0.0.10 and will be removed in 1.0. An updated version of the class exists in the langchain-openai package and should be used instead. To use it run `pip install -U langchain-openai` and import as `from langchain_openai import ChatOpenAI`.\n",
      "  llm = ChatOpenAI(model_name=\"gpt-4o\")\n"
     ]
    }
   ],
   "source": [
    "from langchain.chat_models import ChatOpenAI\n",
    "\n",
    "# 단계 7: 언어모델(LLM) 생성\n",
    "# OpenAI 의 GPT-4o 모델 을 생성\n",
    "llm = ChatOpenAI(model_name=\"gpt-4o\")"
   ]
  },
  {
   "cell_type": "code",
   "execution_count": 3,
   "metadata": {},
   "outputs": [],
   "source": [
    "from langchain_anthropic import ChatAnthropic\n",
    "\n",
    "# 단계 7: 언어모델(LLM) 생성\n",
    "# Anthropic 의 Claude 모델 을 생성합니다.\n",
    "llm = ChatAnthropic(model=\"claude-3-sonnet-20240229\")"
   ]
  },
  {
   "cell_type": "code",
   "execution_count": 2,
   "metadata": {},
   "outputs": [],
   "source": [
    "from langchain_community.chat_models import ChatOllama\n",
    "\n",
    "# 단계 7: 언어모델(LLM) 생성\n",
    "# LangChain이 지원하는 Ollama(로컬) 모델을 사용합니다.\n",
    "llm = ChatOllama(model=\"llama3:8b\")"
   ]
  },
  {
   "cell_type": "markdown",
   "metadata": {},
   "source": [
    "## 4-1. 다양한 LLM 모델 활용"
   ]
  },
  {
   "cell_type": "code",
   "execution_count": 6,
   "metadata": {},
   "outputs": [
    {
     "data": {
      "text/plain": [
       "True"
      ]
     },
     "execution_count": 6,
     "metadata": {},
     "output_type": "execute_result"
    }
   ],
   "source": [
    "# API 키 환경변수로 관리\n",
    "from dotenv import load_dotenv\n",
    "\n",
    "# API KEY 정보 로드\n",
    "load_dotenv()\n"
   ]
  },
  {
   "cell_type": "code",
   "execution_count": null,
   "metadata": {},
   "outputs": [
    {
     "name": "stdout",
     "output_type": "stream",
     "text": [
      "LangSmith 추적을 시작합니다.\n",
      "[프로젝트명]\n",
      "CH04-Models\n"
     ]
    }
   ],
   "source": [
    "# Langsmith 추적 설정\n",
    "from langchain_teddynote import logging\n",
    "from langchain_teddynote.messages import stream_response\n",
    "\n",
    "# 프로젝트 이름 입력\n",
    "logging.langsmith(\"CH04-Models\")"
   ]
  },
  {
   "cell_type": "markdown",
   "metadata": {},
   "source": [
    "### OpenAI\n",
    "- `temperature`: 샘플링 온도 설정 옵션. 2에 가까울수록 출력이 무작위하고, 0에 가까울수록 집중되고 결정론적.\n",
    "- `max_tokens`: 채팅 완성에서 생성할 토큰의 최대 개수 지정\n",
    "- `model_name`: 적용가능한 모델 선택 ([OpenAI 문서 참조](https://platform.openai.com/docs/models))"
   ]
  },
  {
   "cell_type": "code",
   "execution_count": 9,
   "metadata": {},
   "outputs": [
    {
     "name": "stdout",
     "output_type": "stream",
     "text": [
      "사랑은 매우 복잡하고 다양한 감정, 행동, 그리고 관계의 형태로 나타나는 개념입니다. 일반적으로 사랑은 깊은 애정과 관심을 포함하며, 이는 가족, 친구, 연인 등 다양한 대상에게 느낄 수 있습니다. 사랑은 다음과 같은 여러 가지 요소를 포함할 수 있습니다:\n",
      "\n",
      "1. **애정**: 상대방에 대한 깊은 관심과 배려.\n",
      "2. **헌신**: 상대방을 위해 시간과 노력을 기울이는 것.\n",
      "3. **이해**: 상대방의 감정과 생각을 존중하고 이해하려는 노력.\n",
      "4. **신뢰**: 서로에 대한 믿음과 신뢰.\n",
      "5. **공감**: 상대방의 감정을 함께 느끼고 이해하는 능력.\n",
      "\n",
      "사랑은 사람마다 다르게 경험될 수 있으며, 문화적, 개인적 배경에 따라 그 표현 방식도 다양합니다. 사랑은 때로는 기쁨과 행복을, 때로는 도전과 고통을 수반하기도 합니다."
     ]
    }
   ],
   "source": [
    "from langchain_openai import ChatOpenAI\n",
    "\n",
    "# ChatOpenAI 객체 생성\n",
    "gpt = ChatOpenAI(\n",
    "    temperature = 0,\n",
    "    model_name = \"gpt-4o\"\n",
    ")\n",
    "\n",
    "# 스트리밍 출력을 위해 invoke() 대신 stream() 사용\n",
    "answer = gpt.stream(\"사랑이 뭔가요?\")\n",
    "\n",
    "# 답변 출력*\n",
    "stream_response(answer) # * 자체 메소드?"
   ]
  },
  {
   "cell_type": "markdown",
   "metadata": {},
   "source": [
    "### Perplexity\n",
    "\n",
    "        # 응답 출력\n",
    "        response = perplexity.invoke(\"2024년 노벨문학상 수상자를 조사해 주세요\")\n",
    "        print(response.content)\n",
    "\n",
    "        print()\n",
    "        for i, citation in enumerate(response.citations):\n",
    "        print(f\"[{i+1}] {citation}\")\n",
    "\n",
    "- .invoke와 .stream의 차이점: \n",
    "  - invoke()는 API를 한 번에 실행하여 전체 응답을 가져옴\n",
    "  - stream()은 제너레이터(generator) 방식으로 동작하며, 응답이 조각(chunk) 단위로 스트리밍됨\n",
    "    - stream()의 경우 citation에서 문제 발생 가능성"
   ]
  },
  {
   "cell_type": "markdown",
   "metadata": {},
   "source": [
    "그 외에도\n",
    "- Perplexity ([API 키 발급](https://www.perplexity.ai/settings/api?login-source=oneTap&login-new=false))\n",
    "- Anthropic의 Claude ([API 키 발급](https://console.anthropic.com/login?selectAccount=true&returnTo=%2Fsettings%2Fkeys%3F))\n",
    "- Cohere의 Comman R+, Aya\n",
    "- Upstage의 Solar LLM\n",
    "- Xionic\n",
    "- LogicKor\n",
    "\n",
    "소개 및 API 코드 안내"
   ]
  },
  {
   "cell_type": "markdown",
   "metadata": {},
   "source": [
    "## 4-2. 캐싱(Cache)\n",
    "\n",
    "LangChain은 LLM을 위한 선택적 캐싱 레이어를 제공\n",
    "\n",
    "이는 두 가지 이유로 유용함\n",
    "\n",
    "- 동일한 완료를 여러 번 요청하는 경우 LLM 공급자에 대한 API 호출 횟수를 줄여 비용을 절감할 수 있음\n",
    "- LLM 제공업체에 대한 API 호출 횟수를 줄여 애플리케이션의 속도를 높일 수 있음"
   ]
  },
  {
   "cell_type": "code",
   "execution_count": 10,
   "metadata": {},
   "outputs": [],
   "source": [
    "from langchain_openai import ChatOpenAI\n",
    "from langchain_core.prompts import PromptTemplate\n",
    "\n",
    "# 모델 생성\n",
    "llm = ChatOpenAI(model_name = \"gpt-3.5-turbo\")\n",
    "\n",
    "# 프롬프트 생성\n",
    "prompt = PromptTemplate.from_template(\"{country}에 대해서 200자 내외로 요약해줘\")\n",
    "\n",
    "# 체인 생성\n",
    "chain = prompt | llm"
   ]
  },
  {
   "cell_type": "code",
   "execution_count": 11,
   "metadata": {},
   "outputs": [
    {
     "name": "stdout",
     "output_type": "stream",
     "text": [
      "한반도 동쪽에 위치한 한국은 아시아 대륙의 동북쪽에 위치하고 있습니다. 수도는 서울이며, 국가의 공용어는 한국어입니다. 한국은 고대부터 현대까지 다양한 역사와 문화를 자랑하며, 전통적인 음식, 의상, 음악, 미술 등이 풍부하게 전해져 왔습니다. 현재는 세계적으로 주목받는 IT 기술과 엔터테인먼트 산업을 보유하고 있으며, 경제적으로도 빠르게 발전하고 있는 나라입니다. 한국은 또한 지리적으로 다양한 자연환경을 가지고 있어 관광지로도 매력적인 곳으로 손꼽힙니다. 현대적이고 전통적인 아름다움이 공존하는 나라로, 한국은 독특하고 매력적인 문화를 갖춘 나라로 손꼽힙니다.\n",
      "CPU times: user 68.5 ms, sys: 69.5 ms, total: 138 ms\n",
      "Wall time: 6.06 s\n"
     ]
    }
   ],
   "source": [
    "%%time\n",
    "response = chain.invoke({\"country\": \"한국\"})\n",
    "print(response.content)"
   ]
  },
  {
   "cell_type": "markdown",
   "metadata": {},
   "source": [
    "### InMemoryCache\n",
    "- 동일 질문에 대한 답변을 저장하고, 캐시에 저장된 답변 반환"
   ]
  },
  {
   "cell_type": "code",
   "execution_count": 12,
   "metadata": {},
   "outputs": [
    {
     "name": "stdout",
     "output_type": "stream",
     "text": [
      "한국은 동아시아에 위치한 고도로 발전한 산업화 국가로, 사람들은 열정적이고 성실하며 현대적인 생활을 즐긴다. 전통 문화와 현대 문화가 조화롭게 공존하며, K-pop, K-drama 등의 한류 문화가 전 세계적으로 인기를 끌고 있다. 또한 한국은 IT 기술 분야에서 세계적인 선두 주자로 알려져 있으며, 교육 수준이 높고 고용률이 높은 특징을 가지고 있다. 또한 한반도 분단 문제와 북한과의 관계 등 정치적인 문제들에도 매우 큰 관심을 가지고 있으며, 국제사회에서도 중요한 역할을 하고 있다.\n",
      "CPU times: user 177 ms, sys: 100 ms, total: 277 ms\n",
      "Wall time: 5.6 s\n"
     ]
    }
   ],
   "source": [
    "%%time\n",
    "from langchain.globals import set_llm_cache\n",
    "from langchain.cache import InMemoryCache\n",
    "\n",
    "# 인메모리 캐시를 사용합니다.\n",
    "set_llm_cache(InMemoryCache())\n",
    "\n",
    "# 체인을 실행합니다.\n",
    "response = chain.invoke({\"country\": \"한국\"})\n",
    "print(response.content)"
   ]
  },
  {
   "cell_type": "code",
   "execution_count": 13,
   "metadata": {},
   "outputs": [
    {
     "name": "stdout",
     "output_type": "stream",
     "text": [
      "한국은 동아시아에 위치한 고도로 발전한 산업화 국가로, 사람들은 열정적이고 성실하며 현대적인 생활을 즐긴다. 전통 문화와 현대 문화가 조화롭게 공존하며, K-pop, K-drama 등의 한류 문화가 전 세계적으로 인기를 끌고 있다. 또한 한국은 IT 기술 분야에서 세계적인 선두 주자로 알려져 있으며, 교육 수준이 높고 고용률이 높은 특징을 가지고 있다. 또한 한반도 분단 문제와 북한과의 관계 등 정치적인 문제들에도 매우 큰 관심을 가지고 있으며, 국제사회에서도 중요한 역할을 하고 있다.\n",
      "CPU times: user 11.5 ms, sys: 7.36 ms, total: 18.9 ms\n",
      "Wall time: 22.4 ms\n"
     ]
    }
   ],
   "source": [
    "%%time\n",
    "# 체인 실행\n",
    "respone = chain.invoke({\"country\": \"한국\"})\n",
    "print(response.content)"
   ]
  },
  {
   "cell_type": "markdown",
   "metadata": {},
   "source": [
    "- CPU time: 사용자 모드에서 실행된 CPU 시간, Python 코드가 직접 실행하는 연산에 사용된 시간\n",
    "- sys time: 커널 모드에서 실행된 CPU 시간, 운영체제(OS)에서 처리한 연산에 사용된 시간\n",
    "- total time: Python 코드와 운영체제(OS) 작업을 포함한 총 CPU 사용 시간\n",
    "- wall time: 코드 실행의 실제 경과 시간 (현실 세계에서 걸린 시간), CPU 사용뿐만 아니라 대기 시간도 포함됨\n"
   ]
  },
  {
   "cell_type": "markdown",
   "metadata": {},
   "source": [
    "### SQLite Cache"
   ]
  },
  {
   "cell_type": "code",
   "execution_count": 15,
   "metadata": {},
   "outputs": [],
   "source": [
    "from langchain_community.cache import SQLiteCache\n",
    "from langchain_core.globals import set_llm_cache\n",
    "import os\n",
    "\n",
    "# 캐시 디렉토리 생성\n",
    "if not os.path.exists(\"cache\"):\n",
    "    os.makedirs(\"cache\")\n",
    "    \n",
    "# SQLiteCache 사용\n",
    "set_llm_cache(SQLiteCache(database_path=\"cache/llm_cache.db\"))"
   ]
  },
  {
   "cell_type": "code",
   "execution_count": null,
   "metadata": {},
   "outputs": [
    {
     "name": "stdout",
     "output_type": "stream",
     "text": [
      "한국은 동아시아에 위치한 고도로 발전한 산업화국가이며, 전통과 현대가 공존하는 문화를 가지고 있다. 수도는 서울이며, 경제적으로는 세계적인 기업들이 많이 위치하고 있으며 IT 기술과 자동차 산업이 발달하고 있다. 정치적으로는 대한민국으로 알려져 있으며, 대통령제를 시행하고 있다. 한국은 한류와 K-pop 등을 통해 세계적으로 인지도가 높아지고 있으며, 전통적인 음식과 문화뿐만 아니라 현대적인 문화와 엔터테인먼트 산업으로도 유명하다. 또한, 한반도 북쪽에는 북한과의 국제 정세 문제로 유명하다.\n",
      "CPU times: user 64.1 ms, sys: 52.5 ms, total: 117 ms\n",
      "Wall time: 5.71 s\n"
     ]
    }
   ],
   "source": [
    "%%time\n",
    "response = chain.invoke({\"country\": \"한국\"})\n",
    "print(response.content)"
   ]
  },
  {
   "cell_type": "code",
   "execution_count": 17,
   "metadata": {},
   "outputs": [
    {
     "name": "stdout",
     "output_type": "stream",
     "text": [
      "한국은 동아시아에 위치한 고도로 발전한 산업화국가이며, 전통과 현대가 공존하는 문화를 가지고 있다. 수도는 서울이며, 경제적으로는 세계적인 기업들이 많이 위치하고 있으며 IT 기술과 자동차 산업이 발달하고 있다. 정치적으로는 대한민국으로 알려져 있으며, 대통령제를 시행하고 있다. 한국은 한류와 K-pop 등을 통해 세계적으로 인지도가 높아지고 있으며, 전통적인 음식과 문화뿐만 아니라 현대적인 문화와 엔터테인먼트 산업으로도 유명하다. 또한, 한반도 북쪽에는 북한과의 국제 정세 문제로 유명하다.\n",
      "CPU times: user 12.7 ms, sys: 18.3 ms, total: 31.1 ms\n",
      "Wall time: 32.2 ms\n"
     ]
    }
   ],
   "source": [
    "%%time\n",
    "response = chain.invoke({\"country\": \"한국\"})\n",
    "print(response.content)"
   ]
  },
  {
   "cell_type": "markdown",
   "metadata": {},
   "source": [
    "## 4-3. 모델 직렬화(Serialization)\n",
    "\n",
    "### 직렬화\n",
    "- 정의: 모델을 저장 가능한 형식으로 변환하는 과정\n",
    "- 목적\n",
    "모델 재사용 (재훈련 없이)\n",
    "모델 배포 및 공유 용이\n",
    "계산 리소스 절약\n",
    "- 장점\n",
    "\n",
    "빠른 모델 로딩\n",
    "버전 관리 가능\n",
    "다양한 환경에서 사용 가능"
   ]
  }
 ],
 "metadata": {
  "kernelspec": {
   "display_name": "langchain-env",
   "language": "python",
   "name": "python3"
  },
  "language_info": {
   "codemirror_mode": {
    "name": "ipython",
    "version": 3
   },
   "file_extension": ".py",
   "mimetype": "text/x-python",
   "name": "python",
   "nbconvert_exporter": "python",
   "pygments_lexer": "ipython3",
   "version": "3.11.11"
  }
 },
 "nbformat": 4,
 "nbformat_minor": 2
}
