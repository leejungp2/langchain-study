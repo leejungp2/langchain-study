{
 "cells": [
  {
   "cell_type": "markdown",
   "id": "6fa6fb7f",
   "metadata": {},
   "source": [
    "# 웹 검색 모듈 추가\n",
    "\n",
    "**절차**\n",
    "\n",
    "1. Naive RAG 수행\n",
    "2. 검색된 문서에 대한 관련성 체크(Groundedness Check)\n",
    "3. (이번 튜토리얼) Web Search 추가\n",
    "\n",
    "**참고**\n",
    "\n",
    "- 이전 튜토리얼에서 확장된 내용이므로, 겹치는 부분이 있을 수 있습니다. 부족한 설명은 이전 튜토리얼을 참고해주세요.\n",
    "\n",
    "![langgraph-web-search](assets/langgraph-web-search.png)"
   ]
  },
  {
   "cell_type": "markdown",
   "id": "f21c872b",
   "metadata": {},
   "source": [
    "## 환경 설정"
   ]
  },
  {
   "cell_type": "code",
   "execution_count": 1,
   "id": "62c08760",
   "metadata": {},
   "outputs": [],
   "source": [
    "# !pip install -U langchain-teddynote"
   ]
  },
  {
   "cell_type": "code",
   "execution_count": 2,
   "id": "064d5c8c",
   "metadata": {},
   "outputs": [
    {
     "data": {
      "text/plain": [
       "True"
      ]
     },
     "execution_count": 2,
     "metadata": {},
     "output_type": "execute_result"
    }
   ],
   "source": [
    "# API 키를 환경변수로 관리하기 위한 설정 파일\n",
    "from dotenv import load_dotenv\n",
    "\n",
    "# API 키 정보 로드\n",
    "load_dotenv()"
   ]
  },
  {
   "cell_type": "code",
   "execution_count": 3,
   "id": "562b0043",
   "metadata": {},
   "outputs": [
    {
     "name": "stdout",
     "output_type": "stream",
     "text": [
      "LangSmith 추적을 시작합니다.\n",
      "[프로젝트명]\n",
      "CH17-LangGraph-Structures\n"
     ]
    }
   ],
   "source": [
    "# LangSmith 추적을 설정합니다. https://smith.langchain.com\n",
    "# !pip install -qU langchain-teddynote\n",
    "from langchain_teddynote import logging\n",
    "\n",
    "# 프로젝트 이름을 입력합니다.\n",
    "logging.langsmith(\"CH17-LangGraph-Structures\")"
   ]
  },
  {
   "cell_type": "markdown",
   "id": "06468c1c",
   "metadata": {},
   "source": [
    "## 기본 PDF 기반 Retrieval Chain 생성\n",
    "\n",
    "여기서는 PDF 문서를 기반으로 Retrieval Chain 을 생성합니다. 가장 단순한 구조의 Retrieval Chain 입니다.\n",
    "\n",
    "단, LangGraph 에서는 Retirever 와 Chain 을 따로 생성합니다. 그래야 각 노드별로 세부 처리를 할 수 있습니다.\n",
    "\n",
    "**참고**\n",
    "\n",
    "- 이전 튜토리얼에서 다룬 내용이므로, 자세한 설명은 생략합니다."
   ]
  },
  {
   "cell_type": "code",
   "execution_count": 5,
   "id": "f905df18",
   "metadata": {},
   "outputs": [],
   "source": [
    "from rag.pdf import PDFRetrievalChain\n",
    "\n",
    "# PDF 문서를 로드합니다.\n",
    "pdf = PDFRetrievalChain([\"/Users/Owner/git_inside/langchain-study/data/SPRI_AI_Brief_2023년12월호_F.pdf\"]).create_chain()\n",
    "\n",
    "# retriever와 chain을 생성합니다.\n",
    "pdf_retriever = pdf.retriever\n",
    "pdf_chain = pdf.chain"
   ]
  },
  {
   "cell_type": "markdown",
   "id": "d047f938",
   "metadata": {},
   "source": [
    "## State 정의\n",
    "\n",
    "`State`: Graph 의 노드와 노드 간 공유하는 상태를 정의합니다.\n",
    "\n",
    "일반적으로 `TypedDict` 형식을 사용합니다."
   ]
  },
  {
   "cell_type": "markdown",
   "id": "de58d48d",
   "metadata": {},
   "source": [
    "이번에는 상태(State)에 관련성(relevance) 체크 결과를 추가합니다."
   ]
  },
  {
   "cell_type": "code",
   "execution_count": 6,
   "id": "f19a3df5",
   "metadata": {},
   "outputs": [],
   "source": [
    "from typing import Annotated, TypedDict\n",
    "from langgraph.graph.message import add_messages\n",
    "\n",
    "\n",
    "# GraphState 상태 정의\n",
    "class GraphState(TypedDict):\n",
    "    question: Annotated[str, \"Question\"]  # 질문\n",
    "    context: Annotated[str, \"Context\"]  # 문서의 검색 결과\n",
    "    answer: Annotated[str, \"Answer\"]  # 답변\n",
    "    messages: Annotated[list, add_messages]  # 메시지(누적되는 list)\n",
    "    relevance: Annotated[str, \"Relevance\"]  # 관련성"
   ]
  },
  {
   "cell_type": "markdown",
   "id": "c56d4095",
   "metadata": {},
   "source": [
    "## 노드(Node) 정의\n",
    "\n",
    "- `Nodes`: 각 단계를 처리하는 노드입니다. 보통은 Python 함수로 구현합니다. 입력과 출력이 상태(State) 값입니다.\n",
    "  \n",
    "**참고**  \n",
    "\n",
    "- `State`를 입력으로 받아 정의된 로직을 수행한 후 업데이트된 `State`를 반환합니다."
   ]
  },
  {
   "cell_type": "code",
   "execution_count": 7,
   "id": "9ef0c055",
   "metadata": {},
   "outputs": [],
   "source": [
    "from langchain_openai import ChatOpenAI\n",
    "from langchain_teddynote.evaluator import GroundednessChecker\n",
    "from langchain_teddynote.messages import messages_to_history\n",
    "from rag.utils import format_docs\n",
    "\n",
    "\n",
    "# 문서 검색 노드\n",
    "def retrieve_document(state: GraphState) -> GraphState:\n",
    "    # 질문을 상태에서 가져옵니다.\n",
    "    latest_question = state[\"question\"]\n",
    "\n",
    "    # 문서에서 검색하여 관련성 있는 문서를 찾습니다.\n",
    "    retrieved_docs = pdf_retriever.invoke(latest_question)\n",
    "\n",
    "    # 검색된 문서를 형식화합니다.(프롬프트 입력으로 넣어주기 위함)\n",
    "    retrieved_docs = format_docs(retrieved_docs)\n",
    "\n",
    "    # 검색된 문서를 context 키에 저장합니다.\n",
    "    return GraphState(context=retrieved_docs)\n",
    "\n",
    "\n",
    "# 답변 생성 노드\n",
    "def llm_answer(state: GraphState) -> GraphState:\n",
    "    # 질문을 상태에서 가져옵니다.\n",
    "    latest_question = state[\"question\"]\n",
    "\n",
    "    # 검색된 문서를 상태에서 가져옵니다.\n",
    "    context = state[\"context\"]\n",
    "\n",
    "    # 체인을 호출하여 답변을 생성합니다.\n",
    "    response = pdf_chain.invoke(\n",
    "        {\n",
    "            \"question\": latest_question,\n",
    "            \"context\": context,\n",
    "            \"chat_history\": messages_to_history(state[\"messages\"]),\n",
    "        }\n",
    "    )\n",
    "    # 생성된 답변, (유저의 질문, 답변) 메시지를 상태에 저장합니다.\n",
    "    return GraphState(\n",
    "        answer=response, messages=[(\"user\", latest_question), (\"assistant\", response)]\n",
    "    )\n",
    "\n",
    "\n",
    "# 관련성 체크 노드\n",
    "def relevance_check(state: GraphState) -> GraphState:\n",
    "    # 관련성 평가기를 생성합니다.\n",
    "    question_answer_relevant = GroundednessChecker(\n",
    "        llm=ChatOpenAI(model=\"gpt-4o-mini\", temperature=0), target=\"question-retrieval\"\n",
    "    ).create()\n",
    "\n",
    "    # 관련성 체크를 실행(\"yes\" or \"no\")\n",
    "    response = question_answer_relevant.invoke(\n",
    "        {\"question\": state[\"question\"], \"context\": state[\"context\"]}\n",
    "    )\n",
    "\n",
    "    print(\"==== [RELEVANCE CHECK] ====\")\n",
    "    print(response.score)\n",
    "\n",
    "    # 참고: 여기서의 관련성 평가기는 각자의 Prompt 를 사용하여 수정할 수 있습니다. 여러분들의 Groundedness Check 를 만들어 사용해 보세요!\n",
    "    return GraphState(relevance=response.score)\n",
    "\n",
    "\n",
    "# 관련성 체크하는 함수(router)\n",
    "def is_relevant(state: GraphState) -> GraphState:\n",
    "    if state[\"relevance\"] == \"yes\":\n",
    "        return \"relevant\"\n",
    "    else:\n",
    "        return \"not relevant\""
   ]
  },
  {
   "cell_type": "markdown",
   "id": "7ef23fae",
   "metadata": {},
   "source": [
    "## 검색 노드 추가\n",
    "\n",
    "이번에는 `TavilySearch` 도구를 사용하여 Web Search 를 수행합니다.\n",
    "\n",
    "아래는 `TavilySearch` 도구를 사용한 예제입니다."
   ]
  },
  {
   "cell_type": "code",
   "execution_count": 8,
   "id": "bb908735",
   "metadata": {},
   "outputs": [
    {
     "name": "stdout",
     "output_type": "stream",
     "text": [
      "['<document><title>[속보] 소설가 한강 노벨 문학상 수상..한국 작가 최초 수상 쾌거</title><url>https://www.youtube.com/watch?v=FsMuWl5LYNA</url><content>[속보] 소설가 한강 노벨 문학상 수상..한국 작가 최초 수상 쾌거 - [MBC 뉴스속보] 2024년 10월 10일\\\\n\\\\nMBCNEWS\\\\n18548 likes\\\\n827138 views\\\\n11 Oct 2024\\\\n올해 노벨 문학상 수상자가 우리나라 소설가, 한강 씨로 결정됐습니다.\\\\n\\\\n한국 첫 노벨 문학상의 쾌거입니다.\\\\n\\\\n한국인이 노벨상을 수상한 것은 지난 2000년 노벨평화상을 탄 고 김대중 전 대통령에 이어 두 번째로 24년 만입니다.\\\\n\\\\n노벨 위원회는 \\\\\"역사적 트라우마에 맞서고 인간 삶의 연약함을 드러내는 강렬한 시적 산문\\\\\"을 쓴 작가라고 밝혔습니다.\\\\n\\\\n올해 53세인 한 씨는 지난 2016년 소설 \\'채식주의자\\'로 한국 최초로 노벨문학상과 더불어 3대 문학상으로 꼽히는 인터내셔널 부커상을 한국 최초로 수상했습니다.\\\\n\\\\n지난해에는 제주 4·3 사건의 비극을 다룬 장편 소설 \\'작별하지 않는다\\'로 프랑스 4대 문학상으로 꼽히는 메디치상을 수상한 바 있습니다.\\\\n\\\\n노벨상 수상자에게는 상금 1천100만 크로나, 우리돈 약 13억 4천만 원과 메달, 증서가 수여됩니다.\\\\n\\\\n#노벨상 #노벨문학상 #한강 #최초 #쾌거 #뉴스 #MBC뉴스 #MBC #뉴스데스크 #뉴스투데이 #뉴스 #라이브 #실시간 \\\\n\\\\nⓒ MBC&iMBC 무단 전재, 재배포 및 이용(AI학습 포함)금지\\\\n248 comments</content><raw># [속보] 소설가 한강 노벨 문학상 수상..한국 작가 최초 수상 쾌거 - [MBC 뉴스속보] 2024년 10월 10일\\n\\nMBCNEWS\\n18548 likes\\n827138 views\\n11 Oct 2024\\n올해 노벨 문학상 수상자가 우리나라 소설가, 한강 씨로 결정됐습니다.\\n\\n한국 첫 노벨 문학상의 쾌거입니다.\\n\\n한국인이 노벨상을 수상한 것은 지난 2000년 노벨평화상을 탄 고 김대중 전 대통령에 이어 두 번째로 24년 만입니다.\\n\\n노벨 위원회는 \"역사적 트라우마에 맞서고 인간 삶의 연약함을 드러내는 강렬한 시적 산문\"을 쓴 작가라고 밝혔습니다.\\n\\n올해 53세인 한 씨는 지난 2016년 소설 \\'채식주의자\\'로 한국 최초로 노벨문학상과 더불어 3대 문학상으로 꼽히는 인터내셔널 부커상을 한국 최초로 수상했습니다.\\n\\n지난해에는 제주 4·3 사건의 비극을 다룬 장편 소설 \\'작별하지 않는다\\'로 프랑스 4대 문학상으로 꼽히는 메디치상을 수상한 바 있습니다.\\n\\n노벨상 수상자에게는 상금 1천100만 크로나, 우리돈 약 13억 4천만 원과 메달, 증서가 수여됩니다.\\n\\n#노벨상 #노벨문학상 #한강 #최초 #쾌거 #뉴스 #MBC뉴스 #MBC #뉴스데스크 #뉴스투데이 #뉴스 #라이브 #실시간 \\n\\nⓒ MBC&iMBC 무단 전재, 재배포 및 이용(AI학습 포함)금지\\n248 comments</raw></document>', '<document><title>파격만이 가득한 2024 노벨상 수상을 돌아보며 - 포항공대신문</title><url>https://times.postech.ac.kr/news/articleView.html?idxno=23342</url><content>지난 7일부터 14일까지 2024 노벨상 수상자가 발표됐다. 특히 이번 노벨문학상 수상자로 우리나라의 한강 작가가 선정되며 큰 화제가 된 가운데, 우리대</content><raw>![포항공대신문](/image/logo/toplogo_20180213104856.png)\\n![포항공대신문](/image/logo/printlogo_20180213105026.png)\\n![▲노벨 문학상 수상자인 소설가 한강의 책을 시민들이 고르고 있다(출처: 한겨레21)](/news/photo/202410/23342_27763_1650.png)\\n\\n지난 7일부터 14일까지 2024 노벨상 수상자가 발표됐다. 특히 이번 노벨문학상 수상자로 우리나라의 한강 작가가 선정되며 큰 화제가 된 가운데, 우리대학 학생들의 Nobel Week 파견을 앞두고 수상 내용을 돌아본다.\\n\\n**생리의학상: miRNA의 발견과 작동 원리의 규명**\\n\\n의학 분야에서 중요한 발견을 한 사람에게 수여되는 생리의학상은 올해 메사추세츠 의대 빅터 앰브로스 교수와 하버드 의대의 게리 러브컨 교수가 수상했다. 이들은 마이크로 RNA(이하 miRNA)를 처음 발견하고 어떻게 동작하는지를 규명한 공로를 인정받았다. 특히 miRNA는 다른 유전자를 조절하는 기능을 하며, △유전병 △암 △DNA 복구 등과 관련해 복합적인 작용을 한다는 사실이 알려지며 그 중요성이 대두되고 있다.\\n\\n**물리학상: 인공신경망을 통한 머신러닝 기법**\\n\\n물리학상은 프린스턴대의 존 홉필드 명예교수와 토론토대의 제프리 힌튼 교수에게 돌아갔다. 이들의 연구는 인공지능에서 최근 주요한 방법론으로 굳어지고 있는 딥러닝과 밀접한 관련이 있다. 먼저 존 홉필드는 1982년 홉필드 네트워크를 제안하며 서로 다른 뉴런들이 점차 연결을 강화하거나 약화하며 반복적으로 네트워크의 상태를 업데이트하는 방식을 제안했다. 불완전하거나 부분적인 정보가 들어오더라도 기존 학습된 패턴으로 회복할 수 있는 ‘연상 기억’ 개념을 인공신경망에 도입하며 패턴 인식에 대한 포문을 연 인물로 꼽힌다. 제프리 힌튼 교수는 더 나아가 통계 물리학에서 영감을 받은 볼츠만 머신을 제안했다. 이는 입력 데이터의 확률 분포를 학습하는 생성 모델로, 인공신경망의 발전에 크게 기여했다. 하지만 두 컴퓨터 과학자가 물리학상을 수상한 데 부정적인 입장도 존재한다. 물리학을 접목한 획기적 방식임은 분명하지만, 기존 물리학상의 수상 기조나 취지와 맞지 않는다는 의견이 주를 이뤘다.\\n\\n**화학상: 인공지능을 이용한 단백질 구조의 예측 및 설계**\\n\\n화학 부문도 마찬가지로 인공지능 연구자가 수상하는 이변을 낳았다. 2016년 알파고를 개발해 우리나라의 이세돌 9단을 꺾은 구글 딥마인드 CEO 데미스 허사비스와 존 점퍼 수석 연구원이 수상했다. AI를 활용해 단백질 구조를 예측하고 모델링하는 ‘알파폴드’ 시리즈를 개발한 공로를 인정받았다. 또한 워싱턴대의 데이비드 베이커 교수는 이전에 존재하지 않는 형태의 단백질을 디자인하는 일명 ‘드노보 디자인’에 생성형 AI를 접목한 ‘로제타폴드’를 개발했다. 국제학술지인 *Science*는 2021년 최고의 연구 성과 중 첫번째로 AI 기반 단백질 구조 예측을 꼽으며 알파폴드2와 로제타폴드를 꼽았다. 스웨덴 한림원은 이를 두고 “놀라운 연구 성과”라고 칭하며 “단백질 구조의 완전히 새로운 장을 열었다”라고 평했다.\\n\\n**문학상: 인간의 연약함을 폭로한 강렬한 시적 산문**\\n\\n문학상은 한강 작가가 한국인 최초이자 아시아 여성 최초로 수상했다. 스웨덴 한림원은 “역사적 트라우마와 보이지 않는 지배에 정면으로 맞서며 인간의 연약함을 드러냈다”라며, “시적이고 실험적인 문체로 현대 산문의 혁신”을 보여준 점을 크게 평가했다. 특히 △채식주의자 △소년이 온다 △작별하지 않는다와 같은 책을 꼽으며 “몸과 영혼, 산 자와 죽은 자 사이의 연결에 대한 독특한 인식”을 엿볼 수 있다고 밝혔다. 한 작가는 △2016년 맨부커상 △2023년 메디치 외국문학상 △2024년 노벨문학상까지 거머쥐며 명실상부한 거장 문인의 반열에 들게 됐다.\\n\\n**평화상: 반핵 평화를 위한 처절한 노력**\\n\\n평화상은 일본의 니혼 히단쿄(일본원수폭피해자단체협의회)에게 돌아갔다. 니혼 히단쿄는 제2차 세계대전 당시 미국의 원자폭탄 투하로부터 살아남은 사람들이 전후 결성한 단체로, 피해자들의 진술을 비롯한 여러 활동을 펼치며 핵무기 금지를 위한 노력을 이어왔다. 노벨 재단 측은 ‘핵무기로부터 세상을 자유롭게 만들고자 한 공로’를 수상 이유로 밝혔다.\\n\\n**경제학상: 국가 간 빈부 격차에 대한 이론적 근거**\\n\\n경제학상은 △MIT 다론 아제모을루 교수 △MIT 사이먼 존슨 교수 △시카고대 제임스 로빈슨 교수가 공동 수상했다. 이들은 다양한 국가 간 빈부 격차에 집중하며, 그 격차에 대한 답을 사회 제도에서 찾았다. 특히 식민지 중 민주적이고 포용적 제도를 도입했던 국가는 그렇지 않은 국가와 비교 분석하며 그 효용을 입증했다. 다론 아제모을루 교수는 수상 이후 인터뷰에서 “민주주의가 만병통치약은 아니지만, 권위주의 정권에서 지속가능한 혁신을 이뤄내는 것은 어려울 것”이라 말하며, 민주주의적이고 포용적인 정책을 펴는 것이 국가 성장에 이롭다는 입장을 전했다.\\n\\nAI가 본격적으로 노벨상 수상에 모습을 드러내기 시작하며 세간의 우려가 커지고 있다. 분명히 놀랄만한 성과지만, 그간 기초과학과 새로운 연구 분야를 개척한 연구자에게 시상한 것과는 맞지 않은 수상이라는 목소리도 있다. 파격의 연속이었던 이번 노벨상 수상자들은 스웨덴 스톡홀름, 12월 6~12일에 진행되는 Nobel Week에서 만날 수 있다.\\n\\n![이재현 기자](/news/photo/member/tps6595_20241114062133.jpg)\\n![](/image/dn_mail.jpg)\\n![ND소프트](/image/ndsoft.gif)</raw></document>', \"<document><title>2024 노벨문학상 한강 작가가 직접 들려주는 소설 '채식주의자 ...</title><url>https://www.youtube.com/watch?v=WjT39n4LowU</url><content>🎉 2024 노벨문학상🎉  한강 작가가 직접 들려주는 소설 ‘채식주의자’ & '소년이 온다' 이야기 | TV 책 - 작가 한강을 만나다 | KBS 20160517 방송\\\\nKBS 다큐\\\\n2450000 subscribers\\\\n9980 likes\\\\n443123 views\\\\n11 Oct 2024\\\\n🎉 소설가 한강 님의 2024년 노벨 문학상 수상을 축하합니다!\\\\n🎉 Congratulations on South Korean Novelist Han Kang's 2024 Nobel Prize in Literature!\\\\n\\\\n■ TV 책 - [채식주의자] 2016 맨부커상 수상, 작가 한강을 만나다\\\\n한국시간으로 2016년 5월 17일 새벽, 한국에 날아온 기쁜 소식! 작가 한강이 세계 3대 문학상, 2016년 맨부커상 인터내셔널 부문 수상자로 확정되었다. 맨부커상 인터내셔널 최종 후보에 오른 지 두 달여 만에 들려온 낭보다. \\\\n[채식주의자 (창비, 2007)]는 한강 작가의 2007년 작품이자, 번역가 데보라 스미스에 의해 지난해 영국에 소개되었다. [TV 책]은 한강 작가의 육성으로 자신의 작품 [채식주의자]에 대한 이야기를 들어보았다. 작가 한강이 들려주는 그의 작품, 소설가로서의 직업의 의미, 가장 소중히 여기는 작품, 그리고 최근 영국에 번역되어 소개된 [소년이 온다 (창비, 2014)]에 대한 생각 등을 진솔하게 나눴다. 또한 한강 작가가 직접 낭독하는 [채식주의자]를 함께 들어볼 수 있는 시간이다.\\\\n\\\\n■ 화제의 작가 한강, 김창완을 만나다!\\\\n최근 한국인 최초로 맨부커 인터내셔널상 후보에 오르며 주목 받고 있는 화제의 작가 ‘한강’ 한강 작가는 이상문학상, 황순원문학상, 만해문학상, 동리문학상 수상 등으로 이미 알려진 능력자인데... 그가 [TV 책]을 찾아왔다?! 새 단장한 동네 책방에 마주앉은 한강과 김창완! 인간 본성에 대해 고민하는 작가와 감수성 넘치는 예술가가 만나면 과연 어떤 이야기가 오갈까?\\\\n\\\\n■ 당신이 나무가 되고픈 여인을 만난다면?\\\\n한강과 김창완이 함께 읽은 이 주의 책, [채식주의자]는 육식을 거부하며 식물이 되려는 여자, 영혜와 그런 그녀를 이해하지 못하고 말리려 드는 가족들의 이야기다. 금주의 독서가에 따르면, 영혜의 가족들이 다름을 인정하고 받아들이려는 마음이 부족한 것 같다는데... 만약 우리 주변 사람이 폭력에 저항해 육식을 거부하고 식물이 되고자 한다면, 우린 그들과 다르게 행동할 수 있을까? 우리는 가까운 사람의 모든 것을 안다고 생각하지만, 실은 한 단면만으로 그를 판단하고 있는 건 아닐까. 한강 작가는 ‘육식’으로 상징되는 인간의 폭력성을 묵인하는 현실에 대하여 잔잔히 질문을 던진다.\\\\n\\\\n※ 이 영상은 2016년 5월 17일에 방영된 [TV 책]입니다.\\\\n\\\\n#한강 #독서 #노벨상\\\\n\\\\n✔KBS 다큐멘터리 | KBS 공식 유튜브 채널 [KBS 다큐]\\\\n🔔구독👍좋아요➡️ https://www.youtube.com/@KBSDocumentary\\\\n📝문의: kbsdoculife@gmail.com\\\\nCopyright ⓒ KBS. All rights reserved. Unauthorized reproduction, redistribution, and use (including AI training) are prohibited.\\\\n\\\\n∙무단 전재, 재배포 및 이용(AI 학습 포함)을 금지합니다.\\\\n∙방송 시점에 따라 현 상황과 내용이 다소 다를 수 있습니다.\\\\n∙비방, 악성 댓글은 출연자 보호를 위해 운영자가 삭제할 수 있습니다.\\\\n930 comments\\\\n</content><raw># 🎉 2024 노벨문학상🎉  한강 작가가 직접 들려주는 소설 ‘채식주의자’ & '소년이 온다' 이야기 | TV 책 - 작가 한강을 만나다 | KBS 20160517 방송\\n## KBS 다큐\\n2450000 subscribers\\n9980 likes\\n\\n### Description\\n443123 views\\nPosted: 11 Oct 2024\\n🎉 소설가 한강 님의 2024년 노벨 문학상 수상을 축하합니다!\\n🎉 Congratulations on South Korean Novelist Han Kang's 2024 Nobel Prize in Literature!\\n\\n■ TV 책 - [채식주의자] 2016 맨부커상 수상, 작가 한강을 만나다\\n한국시간으로 2016년 5월 17일 새벽, 한국에 날아온 기쁜 소식! 작가 한강이 세계 3대 문학상, 2016년 맨부커상 인터내셔널 부문 수상자로 확정되었다. 맨부커상 인터내셔널 최종 후보에 오른 지 두 달여 만에 들려온 낭보다. \\n[채식주의자 (창비, 2007)]는 한강 작가의 2007년 작품이자, 번역가 데보라 스미스에 의해 지난해 영국에 소개되었다. [TV 책]은 한강 작가의 육성으로 자신의 작품 [채식주의자]에 대한 이야기를 들어보았다. 작가 한강이 들려주는 그의 작품, 소설가로서의 직업의 의미, 가장 소중히 여기는 작품, 그리고 최근 영국에 번역되어 소개된 [소년이 온다 (창비, 2014)]에 대한 생각 등을 진솔하게 나눴다. 또한 한강 작가가 직접 낭독하는 [채식주의자]를 함께 들어볼 수 있는 시간이다.\\n\\n■ 화제의 작가 한강, 김창완을 만나다!\\n최근 한국인 최초로 맨부커 인터내셔널상 후보에 오르며 주목 받고 있는 화제의 작가 ‘한강’ 한강 작가는 이상문학상, 황순원문학상, 만해문학상, 동리문학상 수상 등으로 이미 알려진 능력자인데... 그가 [TV 책]을 찾아왔다?! 새 단장한 동네 책방에 마주앉은 한강과 김창완! 인간 본성에 대해 고민하는 작가와 감수성 넘치는 예술가가 만나면 과연 어떤 이야기가 오갈까?\\n\\n■ 당신이 나무가 되고픈 여인을 만난다면?\\n한강과 김창완이 함께 읽은 이 주의 책, [채식주의자]는 육식을 거부하며 식물이 되려는 여자, 영혜와 그런 그녀를 이해하지 못하고 말리려 드는 가족들의 이야기다. 금주의 독서가에 따르면, 영혜의 가족들이 다름을 인정하고 받아들이려는 마음이 부족한 것 같다는데... 만약 우리 주변 사람이 폭력에 저항해 육식을 거부하고 식물이 되고자 한다면, 우린 그들과 다르게 행동할 수 있을까? 우리는 가까운 사람의 모든 것을 안다고 생각하지만, 실은 한 단면만으로 그를 판단하고 있는 건 아닐까. 한강 작가는 ‘육식’으로 상징되는 인간의 폭력성을 묵인하는 현실에 대하여 잔잔히 질문을 던진다.\\n\\n※ 이 영상은 2016년 5월 17일에 방영된 [TV 책]입니다.\\n\\n#한강 #독서 #노벨상\\n\\n✔KBS 다큐멘터리 | KBS 공식 유튜브 채널 [KBS 다큐]\\n🔔구독👍좋아요➡️ https://www.youtube.com/@KBSDocumentary\\n📝문의: kbsdoculife@gmail.com\\nCopyright ⓒ KBS. All rights reserved. Unauthorized reproduction, redistribution, and use (including AI training) are prohibited.\\n\\n∙무단 전재, 재배포 및 이용(AI 학습 포함)을 금지합니다.\\n∙방송 시점에 따라 현 상황과 내용이 다소 다를 수 있습니다.\\n∙비방, 악성 댓글은 출연자 보호를 위해 운영자가 삭제할 수 있습니다.\\n\\n930 comments\\n### Transcript:\\nTV 책은 그녀를 이미 서울에서 [음악] 만났었다 안녕하세요 오 아이고 아이고 고맙습니다 아이고 근데 맨부커 작이 뭐예요 어 영국에 있는 맨부커 재단에서 영어로 쓰여진 문학 작품들을 이제 어 작가가 영어로 쓴 작품과 영어로 번역된 작품으로 분류해서 이제 각자 상을 주게 돼요 그리고 번역된 작품의 경우에는음 한 작품에 이제 그 상을 주는 거죠 좋은 소식이기 바랍니다 아니요지 사람들이 너무 많은 걸 기대하신 거 같아요 그냥 저는 담담하게 생 데스는 어 나이가 얼마나 됐어요 1987년 생이니까 예 채식주의자이 잘 재밌게 읽었어 네 감사합니다 이거는 언제 쓴 거예요 이거 벌써 11년 전에 예 쓴 거고요 출가는 9년 전에 됐어요 아 이건 꽤 오래됐네네 문학도가 된다는 소설가가 된다는 건 어떤 겁니까 아 소설을 쓰는 건 좀 더 독자적인 일이죠 그래서 특별히 뭐 어떤 전공을 택해야 할 필요가 있는 것도 아니고 어떤 도재 에에 그런 과정을 꼭 거쳐야 되는 것도 아니고요 그냥 어느 순간 책을 쓰고 싶으면 쓰면 되는 거니까요 예 훨씬 더 독자적이고 동시에 고독한 뭐 그런 일인 거 같아요 혼자 망하고 예 혼자 쓰고 가는 그냥 팔 자네 예 그니까 뭐 후설이 잘 안 되더라도 자기 건강만 좀 해치면 되고 남에게는 그리 피해를 주지 않는 가수도 마찬가지 아 그래네 가수도 거의 비슷해요 아 그래요 악몽의 시달리던 주인공 영예가 어느 날 느닷없이 육식을 거부하기 시작하는데 그을 둘러싼 남편과 형부 그리고 언니의 시선으로 이야기가 이어지는 연작 소설이다 [음악] 작가는 통념에서 벗어난 인간이 겪게 되는 물리적 정신적 폭력을 적나하게 펼쳐 [음악] 놓았다 그 채식주의자 그다음에 몽고 반정 그 한편이 뭐더라 어 나무불꽃 나무불꽃 어떻게 보면은 이게 나무 꽃부터 읽어야지 되는 같기도 하고 예 이게 순서는 사실 없어요 보면은 이제 시간에 순서대로 흘러가고 있기는 해요 그런데 화자가 어 계속 달라지고요 그이 소설의 주인공은 영해인 정작 영해는 이제 화자로 등장하지 않고 계속해서 이제 관찰되고 어 이해받지 못하고 때로는 연민의 대상이 되고 계속 대상으로서 남게 되죠 그래서음 읽는 사람이 도대체이 영예라 사람은 왜 이런 행동을 하는 것인지를 그 진실을 이렇게 스스로 움켜 잡아야 한다고 할까요 그러다 보니까 아무래도 많은 여러 가지 책을 읽고 나서 독후감도 많이 다르게 나오더라고요 예 아내가 채식을 시작하기 전까지 나는 그녀가 특별한 사람이라고 생각한 적이 없었다 직히 말하 면 아내를 처음 만났을 때 끌리지도 않았다 크지도 작지도 않은 키 길지도 짧지도 않은 단발머리 가장 단순한 디자인의 검은 구들을 신고 그녀는 내가 기다리는 테이블로 다가왔다 빠르지도 느리지도 힘 있지도 가열 프지 않은 걸음 거리로 인상 차기가 똑같 빠르지도 느리지도 힘 있지도 가열 프지 않는 걸음거리 애매한 거음 거리로 하까 왔다는 거죠 아무런 특징 없는 걸음거리네 뭐 하고서 있는 거야 나는 욕실에 불을 켜려고 물었다 새벽 시쯤 되었나 회식에서 마신 소주 병반 덕분에 요의 갈증을 함께 느끼고 깨어난 참이었다 응 뭐 하고 있냐고 나는 오싹한 취를 느끼면 아내가 있는 쪽을 보았다 잠과 취기가 가셨다 아내는 꼼짝안고 서서 냉장고를 마이보고 있었다 어둠에 잠긴 옆얼굴의 표정을 식별할 수 없었으나 무엇인가 섬뜩했다 왜 그래 뭐야 지금 내가 아내의 어깨 손을 얹었을 때 뜻밖에도 그녀는 놀라지 않았다 정신을 놓고 있었던게 아니라 내가 안방에서 나오는 것 질문 자신에게 다가오는 것까지 모두 의식하고 있었던 것이다 여보 나는 어둠 속에 드러난 그녀의 옆얼굴을 보았다 처음 보는 냉정하게 번쩍이는 눈으로 그녀는 입술을 굳게 다물고 있었다 꿈을 꿨어 그녀의 목소리는 또렷했다 꿈 무슨 소리라는 거야 지금 몇시야 대체 그녀는 나에게 몸을 돌려 문이 열려 있는 안방을 향해 천천히 걸어갔다 문턱을 넘자 팔을 뒤로 뻗어 조용히 문을 닫았다 나는 혼자 어두운 부엌에 남아 그녀의 흰 뒷모습을 삼긴 방문을 [음악] 바라보았다 히츠코 영화 같아요 한강 씨 이름이 참 멋있어요네 한강 본명이 안강네 강은 그냥 강강 이던가네 물수 변에 이거네 어 한강 왜 갑자기 이름이 이쁘다는 생각이 들었지 자 읽다보면 그녀의 몸을 중심으로 희고 검은 비닐 봉지들 플라스틱 밀폐 용기들이 발디딜때 없이 부엌에 널려 있었다 샤브샤브용 쇠고기와 돼지고기 삼겹살 커다란 우족 두짝 위생팩에 담긴 오징어들 시골의 장모가 얼마 전에 보낸 잘 손질된 장어 노란 끈에 엮인 비들 포장을 듣지 않는 냉동만 물을 알 수 없는 수많은 꾸러미들 부스럭거리는 소리를 내며내는 다 쓰레기통 쓰레기 봉투에 그것들을 하나씩 주어 덮는 중이었다 뭐하는 거야 지금 나는 마침내 이성을 입고 고함을 질렀다 어젯밤과 똑같이 나의 존재를 무시하며 그녀는 계속해서 고기 꾸러미들을 쓰레 봉투에 넣었다 쇠고기와 돼지고기 토막난 닭 적게 잡아도 20만 원치는 될 바닷 장어를 당신 제정신이냐 이걸 왜 다 버리는 거야 나는 비닐봉지를 해치고 달려가 그녀의 손목을 낚아챘다 뜻밖 아나 손목은 완강해 내 얼굴이 지도록 힘을 죽어서야 비닐봉지를 놓게 할 수 있었다 발개진 오른손목을 왼손으로 주무르며 아내는 평상시와 똑같은 침착한 어로 말했다 꿈을 꿨어 다시 그 얘기였다 표정 하나 흐트러지지 않은 채 아내는 나를 마주보았다 [음악] 채식 해보셨어요네 몇 개월이나 하셨어요 한 한 4년 정도 했어요 4년네 독한 분이 뭐로 하셨어요 진 비건으로 하셨어요 아니면은 그냥 슬쩍슬쩍 우유 예 우유하고 계란은 먹었어요 그때 그뭐 다 먹었네 맞아 뭐해요 그러면 말로만 채식주 이자지 근데 저는 진짜로 비건을 한 8개월 해 봤어요 아 KBS 드라마 포도박 그산 아이를 찍으러 영동으로 내려가는데 갔더니 한 여름 대약 볕에서 아무도 돌봐 주는 사람도 없는데 요만한 한평 남짓한 돼지 우리에 돼지가 두 마리가 있는데요 딱요 책만큼 땅을 파고 거기다 배를 대고 있어요 그리고 그 염천 견디고 있더라고요 어 그걸 이렇게 보고 있으니까 저건 먹거리가 아니네 그래 그런 생각이 들었어요 그래 갖고 그날 밤 저녁부터 고기를 끊었어요 아예네 먼저 뚝 끊었어요 근데 왜 이렇게 절 근하게 못 아니 너무 이해가 돼서요 예 아네 맞아요 여기 지금 영예도 이제 그러면서 그런 폭력과 단절을 하고 그 질거 거리는 그런 그 살코기로 자기 영혼을 진짜 순결하게 꺼내겠다 그고 이제 시작을 하는데 저는 그것보다이 사람이 결혼도 했잖아요 그런데 전혀 남편 남편이 어떤 사람인지 그 뭐 어 그런 것에 대해서 정말 창백할 정도로 무관심해 그 태도 같은 것들이 어 공포보다 저는 그게 더 눈앞에 현상으로 보이더라고요 주인공 영해가 채식을 결심한 과정을 그린 채식주의자 이야기는 몽고반 점에 이어 나무 불꽃으로 이어지면서 결국 인간의 몸을 거부하고 나무가 되고 싶어하는 몸부림을 그려낸다이를 통해 인간의 본성에 대한 묵직한 질문을 던지는 소설이다 그리고 마지막에 마지막에 나무 불꽃에서 언니가 또 동생 진짜 병들어서 이제 죽어가는 동생 한테 어찌할 수 없는 것 다가갈 수 없는 죽음 또 잡을 수 없는 동생네 이런 것들이 저한테는 읽혔어요네 영예가 계속 미끄러져서 도망가죠이 모든 시상과 목소리들과 영예를 포착하고 이해하려 하거나 또는 이해할 마음도 없거나 이런 모든이 바라보는 모든 어떤 시도들로음 계속 도망가고 있는 거죠 심지어 자신의 몸으로부터 그래서 어 그리고 얘기하신 것처럼음이 세 명의 화자가 결국은 영예를 끝끝내 움켜 주지 못하는 거고요 영예의 진실은 즉 그 사이 어디인가 있는 거죠 그리고 어 저는이 소설이 질문이라고 생각했어요 대답이 아니라 그래서 어 아 우리가 식물이 되어야 한다는 대답도 아니고 또 우리가 뭔가를 그 언니처럼 견디며 살아야 한다는 대답도 아니고음 이런 어떤 사람이 있다 이렇게 인간이 있기 싫어한 어떤 사람이 있다 이거 자체가 어떤 질문이 아닐까음 불편한이 질문 속에 좀 견디면서 머물러 보는게 어떨까 그런 생각을 하면서이 소설을 썼어요 그래서이 앞에이 뒤에 앞에이 두 명의 남자 화자들은 사실은 그렇게 신뢰하기 어려운 화자들이 그렇게 제가 그 편에서 쓰고 있는게 옹호하면서 쓰고 있는게 아니고 이들이 계속 빗나가는 어떤 실패의 과정을 이렇게 따라가고 싶었던 거예요 데브라 스미스는 뭐라 그래요 소서를 두고네음 영어로 들었으면 영어 씀 그러고 보니 데보라가 왜 나는이 소설이 그렇게 좋았다라고 말하는 걸들은 적은 없는 거 같고요 그냥 좋았다고 했어요 어 어떤 이유를 말하기보다는 뭔가 진실에서 좋았다 그렇게 얘기하더라고요 어에 이제 꿈 얘기가 나옵니다 어두운 숲이었어 아무도 없었어 뾰죽한 잎이 돋은 나무들을 치느라고 얼굴에 팔에 상처가 났어 분명 일행과 함께였던 것 같은데 혼자 길을 잃었나 봐 무서웠어 추웠어 얼어붙은 계곡을 하나 건너서 헛간 같은 밝은 건물을 발견했어 거적대기를 걷고 들어간 순간 봤어 수백개의 커다랗고 뻘건 고깃 덩어리들이 기다란 대막 그들에 매달려 있는 걸 어떤 덩어리에 아직 마르지 않은 붉은 피가 떨어져 내리고 있었어 끝없이 고깃 덩어리들을 해치고 나아갔지만 반대쪽 출구는 나타나지 않았어 입고 있던 흰옷이 온통 피해 젖었어 어떻게 거길 빠져나왔는지 몰라 계곡을 거슬러 달리고 또 달렸어 갑자기 숲이 환해지고 봄날의 나무들이 초록빛으로 우어어 어린아이들이 우글거리고 맛있는 냄새가 났어 수많은 가족들이 소풍 중이었어 그 광경은 말할 수 없이 했어 시냇물이 소리내서 흐르고 그 곁으로 돗자리를 깔고 앉은 사람들 김밥을 먹는 사람들 한 고기를 굽고 노래소리 즐거운 웃음소리가 했어 하지만 난 무서웠어 아직 내 옷에 피가 묻어 있었어 아무도 날 보지 못한 사이 나무 뒤에 움크려 숨었어 내 손에 피가 묻어 있었어 내 입에 피가 묻어 있었어 그 헛간에서 나는 떨어진 고깃덩어리를 주어 먹었거든 내 몸과 입천장에 물한 고기를 질러 붉은 피를 발랐거든요 [음악] 그렇게 생생할 수 없어 이빨에 씹히던 날고기 감촉이 내 얼굴이 눈빛이 처음 보는 얼굴 같은데 분명 내 얼굴이었어 아니야 거꾸로 수없이 봤던 얼굴 같은데 내 얼굴이 아니었어 설명할 수 없어 익숙하면서도 났어 그 생생하고 이상한 끔찍하게 이상한 [음악] 느낌을 작가님이 읽어 주는 걸 들으니까 내가 읽는 거보다 이해가 더 잘되는 거 같아 더 선명하게 [음악] 떠올라요 여기 사람 죽이고 이런 거 나오잖아요이 안 읽어도 되지 않을까요 많은 시청자를 불편하게 하지 않을까요 맞아요 어 그래요 그리고 한강 씨가 읽으니까 더 섬뜩해요네 의례적이고 정다운 그리고 실질적인 대화가 듬성듬성 오가는 동안 아이들은 떠들고 서로를 때려가며 보리 미어지게 음식을 먹어댔다 내가 물었다 저형이 음식을 혼자 다 하셨습니까 저형은 반쯤 웃었다 그냥 그저께부터 하나씩 했어요 근데 저거 굴 묻히면 영예가 좋아하는 거라 일부러 장바다 한 건데 영에는 손도 안 대대 나는 숨을 죽였다 마침내 시작이었다 가만 있어 봐라 영예 너 에비가 그만큼 알아듣게 말했는데 장인의 호통에 이어 처형이 야무지게 아내를 나았다 너 정말 어쩌려고 그러니 사람한테 영 필요한 영양소가 있는 건데 채식을 하려면 제대로 식단을 잘 짜서 하든가 얼굴이 이게 뭐야 처남도 거들었다 저는 딴 사람인 줄 알았어요 얘기는 들었지만 그렇게 몸 상해 가면서 채식하는 줄은 몰랐지 뭐예요 지금부터 그 채식인 이제 뭔지는 끝이다 이거 이거 이거 다 먹어라 얼른 없어도 못 먹는 세상도이가 무슨 꼴리냐 장문은 쇠고기 볶음과 탕수육 닭집 낙지 소면 접시들을 들어 아내 앞에 펼쳐 놓으며 말했다 뭐 하고 있는 거냐 어서 먹어 장인이 기차 화통 같은 목소리로 채근했다 아우 안 읽을래요 아 그 뒤로 가면은 너무 너무 아 너무 좀 끔찍해네 아이 뭐 고기를 쉬 놓고 말이야 딸 입에다가 뭐예요 어떻게 그런 상상을 할 수가 있어요 한번 소설 가래도 그렇지이 장면이 끔찍하고 불편한 건 사실인데 요 이게 이제 세계의 장으로 이루어진 소설인데 한 번씩 다시 나와요 각자 화자의 관점에서 그만큼 중요한 장면이고요 이제 이런 상황에서 영예는 다른 말은 하지 않고 저는 고기를 안 먹어요라는 말만 하거든요 꿈을 꿨어 하고음 속터져 죽지 어 사람들이에요 그러니까 지금이 장인어른이 딸한테 억지로 고길 입에다 넣는 것 그 의사들이 튜브를 억지로여 코에다 넣는 것 이런 것들이 어 같은 시츄에이션네 연결되어 있어요 어우 아 아 이걸 어떻게 이거 읽어 읽지 마세요 예 괴롭게 해드려서 죄송합니다네 사실은이 책을 11년 전에 썼고 아마 그 시기에만 쓸 수 있었던 소설일 것 같고 이제 저는 장편 소설을 한 편씩 쓰면서 뭔가 제 삶도 진전이 되는 거 같아요 그래서이 소설에서는 이제 인간의 폭력을 거부하려고 애쓰는 어떤 사람의 이야기가 나오고 삶을 져 버리더라도 폭력은 거부하고 싶은 어떤 사람의 얘기가 나오고 그다음 소설에서는 그래도 폭력과 아름다움이 뒤섞 이 세계를 껴안으려는 사람도 나오고요 그렇게 조금씩 이제 걸어서 최근 작인 소년 다에서는 이제 인간에 존엄에 조금씩 가까이 가려고 하는 이제 그런 저의 움직임이 있는데 어 사실은 저에게도 좀이 세계가 낯설죠 벌써 11년 전에 제가 썼던 소설이고 저는 이제 많이 걸어 나왔는데 갑자기 이제 거슬러서이 소설에 장면을 지금 읽어 주시니까 아 이런 소설을 다시 아마 쓸 수 없을 것이고이 소 설을 썼던 사람이 분명 저였다 건 사실이지만 낯설게 느껴지기도 하고 뭔가 친숙하면서도 낯선 어떤 타인 있음 소설 같게 느껴져요음 10몇 년 전에 참 모 이었어요 고통스럽게 몸치는 아내의 입술에 장애는 탕수육을 진 이겼다 그 월남 전에서 그랬던 사람이 그 딸한테 그랬으니 그게 보통 우악스러운게 아니죠 억센 손가락으로도 입술을 열었으나 악 걸린 이빨을 어쩌지 못했다 마침내 다시 화가 머리 끝까지 치민 장인이 한 번도 아에 뺨을 때렸다 아버지 최용이 달려들어 장인의 허리를 안았으나 아내 입이 벌어진 순간 장인은 탕수육을 쑤셔 넣었다 아이 안을래 너무 이렇게 그래 갖고 이제 정신병원으로 이제 이번을 어 하게 된 지경에 이르는데 이게 어 이게 그 어린날 그 이제 영예를 물었던 걔를 아버지가 그말로 잔혹하게 살해를 하잖아요 오토바 에다 매달아 갖고 그 장면 이제 그 뒤에 이게 꿈 이야기처럼 이게 다시 나와요 예 아유음 원래 이런 폭력적인 장면들의 민감한 편이에요 그래서 제가 아우슈비츠를 다룬 영화를 보면 토하거나 며칠 아프거나 그래요 그러니까 제가 오히려 어 가장 두려워하고 힘들어하는게 폭력의 장면인데 그럼에도 불구하고 이게 너무 힘드니까 그걸 돌파하기 위해서는 이런 사람의 이야기를 쓰고 싶었던 것이고음 그리고이 사람의 이야기를 쓰기 위해서는이 사람이 왜 그렇게 폭력이 어 견디게 어려운 것인지를 결국은 폭력적인 장면을 통해서 밖에는 말할 수 없기 때문에 저도 힘들게 뭔가 통과를 했던 거죠음 손목은 괜찮아 아무렇지도 않아 아픈 건 가슴이야 뭔가가 명치에 걸려 있어 그게 뭔지 몰라 언제나 그게 거기 멈춰 있어 이젠 브레지어를 하지 않아도 덩어리가 느껴져 아무리 길게 숨을 내 쉬어도 가슴이 시원하지 않아 어떤 고함이 울부짖음이 겹겹이 뭉쳐져 거기 박혀 있어 고기 때문이야 너무 많은 고기를 먹었어 그 목숨들이 고스라니 그 자리에 걸려 있는 거야 틀림 없어 피와 살은 모두 소화되고 흩어지고 찌꺼기는 배설되지만 목숨들만은 끈질기게 명치에 달라붙어 있는 거야 한 번만 단 한 번만 크게 소리치고 싶어 캄캄한 창밖으로 달려나가고 싶어 그러면이 덩어리가 몸 밖으로 뛰쳐 나갈까 그럴 수 있을까 아무도 날 도울 수 없어 아무도 날 살릴 수 없어 아무도 날 숨쉬게 할 수 없어 새로운 출발점에 선 작가 한강 이제 세계인을 독재로 끌게 됐다 그리고 또 다른 한강도 한국 문단에서 기다리고 있을 것이다 영예가 이런 이제 그 뭐랄까 그런 폭력을 갖다 해치고 이렇게 살아가면서 한강은 이렇게 수면위로 이렇게 숨쉴 수 있게 이렇게 내보내 준 것 같네 응 내 생각인가 [음악] 당신이 죽은 뒤 장례를 치르지 못해 내 삶이 장례식이 [음악] 되었습니다 518 광주 민주와 항쟁을 배경으로 한 한강과의 최근작 소년이 온다 역시 최근 영어로 번역된 작품 누가 나를 죽였을까 누가 누나를 죽였을까 이제 리한이 없으니 만나기 위해서을 직일 필요는 없을텐데 하지만 없이 나를 어떻게 없를 어떻게아 가 어 있는지 생는 이제 그들을 생기 시어 그들을 향해 날아가고었어고었어 왜 나를 죽였지 왜 누나를 죽였지 어떻게 죽였지 이게 번역도 됐어요 이월 반응은이 소설이 훨씬 더 영국에서 좋았어요 휴먼 액스가네이 영하고 여기 오는 너하고는 닮는 대가 있어요 일단이 소설이 두 편의 소설들은 아주 많이 달라 보이긴 하지만 제 내면 깊은 데에서는 연결되어 있어요 근데 영예라이 인물은 어 인간의 폭력이 너무 싫어서 더 이상 인간이고 싶지 않은 사람이에요 그리고이 소년이 온다 해서이 소년은 어 감당하기 어려운 어떤 윤리적 선택을 하려고 애쓰는 어떤 그런 사람의 모습이에요 그래서 전혀 달라 보이지만 결벽적 어떤 윤리적인 고민을 끝까지 밀어붙이려고 애쓰는 그런 사람들이란 점에서 어쩌면 통한다고도 할 수 있어요 세째 관심사 뭐예요 요즘은요음 요즘의 관심사는음 아주 밝은 걸음 밝고 눈부시고 아무리 더럽히고 해도 더럽혀지지 않는 어떤 그런 인간의 어떤 지점음 투명함 그런 거에 관심이 있어요 그래서 6월에 나오는 작 그런 얘기네 인간의 깊은 어둠 속을 탐색하던 작가 한강 또 어떤 인물을 탄생시켜 우리에게 다시 말을 걸어 올지 기대한다 [음악] h [음악]</raw></document>\"]\n"
     ]
    }
   ],
   "source": [
    "from langchain_teddynote.tools.tavily import TavilySearch\n",
    "\n",
    "# 검색 도구 생성\n",
    "tavily_tool = TavilySearch()\n",
    "\n",
    "search_query = \"2024년 노벨 문학상 수상자는?\"\n",
    "\n",
    "# 다양한 파라미터를 사용한 검색 예제\n",
    "search_result = tavily_tool.search(\n",
    "    query=search_query,  # 검색 쿼리\n",
    "    max_results=3,  # 최대 검색 결과\n",
    "    format_output=True,  # 결과 포맷팅\n",
    ")\n",
    "\n",
    "# 검색 결과 출력\n",
    "print(search_result)"
   ]
  },
  {
   "cell_type": "markdown",
   "id": "9a2ce55a",
   "metadata": {},
   "source": [
    "검색 노드로 패키징하여 추가합니다. (함수 생성)"
   ]
  },
  {
   "cell_type": "code",
   "execution_count": 10,
   "id": "2f59acb1",
   "metadata": {},
   "outputs": [],
   "source": [
    "# Web Search 노드\n",
    "def web_search(state: GraphState) -> GraphState:\n",
    "    # 검색 도구 생성\n",
    "    tavily_tool = TavilySearch()\n",
    "\n",
    "    search_query = state[\"question\"]\n",
    "\n",
    "    # 다양한 파라미터를 사용한 검색 예제\n",
    "    search_result = tavily_tool.search(\n",
    "        query=search_query,  # 검색 쿼리\n",
    "        topic=\"general\",  # 일반 주제\n",
    "        max_results=6,  # 최대 검색 결과\n",
    "        format_output=True,  # 결과 포맷팅\n",
    "    )\n",
    "\n",
    "    return {\"context\": search_result}"
   ]
  },
  {
   "cell_type": "markdown",
   "id": "a3f7785d",
   "metadata": {},
   "source": [
    "## Edges\n",
    "\n",
    "- `Edges`: 현재 `State`를 기반으로 다음에 실행할 `Node`를 결정하는 Python 함수.\n",
    "\n",
    "일반 엣지, 조건부 엣지 등이 있습니다."
   ]
  },
  {
   "cell_type": "code",
   "execution_count": 11,
   "id": "a6015807",
   "metadata": {},
   "outputs": [],
   "source": [
    "from langgraph.graph import END, StateGraph\n",
    "from langgraph.checkpoint.memory import MemorySaver\n",
    "\n",
    "# 그래프 정의\n",
    "workflow = StateGraph(GraphState)\n",
    "\n",
    "# 노드 추가\n",
    "workflow.add_node(\"retrieve\", retrieve_document)\n",
    "workflow.add_node(\"relevance_check\", relevance_check)\n",
    "workflow.add_node(\"llm_answer\", llm_answer)\n",
    "\n",
    "# Web Search 노드 추가\n",
    "workflow.add_node(\"web_search\", web_search)\n",
    "\n",
    "# 엣지 추가\n",
    "workflow.add_edge(\"retrieve\", \"relevance_check\")  # 검색 -> 관련성 체크\n",
    "\n",
    "\n",
    "# 조건부 엣지를 추가합니다.\n",
    "workflow.add_conditional_edges(\n",
    "    \"relevance_check\",  # 관련성 체크 노드에서 나온 결과를 is_relevant 함수에 전달합니다.\n",
    "    is_relevant,\n",
    "    {\n",
    "        \"relevant\": \"llm_answer\",  # 관련성이 있으면 답변을 생성합니다.\n",
    "        \"not relevant\": \"web_search\",  # 관련성이 없으면 웹 검색을 수행합니다.\n",
    "    },\n",
    ")\n",
    "\n",
    "workflow.add_edge(\"web_search\", \"llm_answer\")  # 검색 -> 답변\n",
    "workflow.add_edge(\"llm_answer\", END)  # 답변 -> 종료\n",
    "\n",
    "# 그래프 진입점 설정\n",
    "workflow.set_entry_point(\"retrieve\")\n",
    "\n",
    "# 체크포인터 설정\n",
    "memory = MemorySaver()\n",
    "\n",
    "# 그래프 컴파일\n",
    "app = workflow.compile(checkpointer=memory)"
   ]
  },
  {
   "cell_type": "markdown",
   "id": "d9a15c32",
   "metadata": {},
   "source": [
    "컴파일한 그래프를 시각화 합니다."
   ]
  },
  {
   "cell_type": "code",
   "execution_count": 12,
   "id": "9a4a9e16",
   "metadata": {},
   "outputs": [
    {
     "data": {
      "image/png": "[encoded data removed]",
      "text/plain": [
       "<IPython.core.display.Image object>"
      ]
     },
     "metadata": {},
     "output_type": "display_data"
    }
   ],
   "source": [
    "from langchain_teddynote.graphs import visualize_graph\n",
    "\n",
    "visualize_graph(app)"
   ]
  },
  {
   "cell_type": "markdown",
   "id": "110daa16",
   "metadata": {},
   "source": [
    "## 그래프 실행\n",
    "\n",
    "- `config` 파라미터는 그래프 실행 시 필요한 설정 정보를 전달합니다.\n",
    "- `recursion_limit`: 그래프 실행 시 재귀 최대 횟수를 설정합니다.\n",
    "- `inputs`: 그래프 실행 시 필요한 입력 정보를 전달합니다."
   ]
  },
  {
   "cell_type": "markdown",
   "id": "4af077a6",
   "metadata": {},
   "source": [
    "검색 결과의 `relevance_check` 가 실패할 경우, 검색을 수행하여 웹 검색 결과를 제공합니다."
   ]
  },
  {
   "cell_type": "code",
   "execution_count": 13,
   "id": "79fd31f2",
   "metadata": {},
   "outputs": [
    {
     "name": "stdout",
     "output_type": "stream",
     "text": [
      "==== [RELEVANCE CHECK] ====\n",
      "no\n",
      "\n",
      "==================================================\n",
      "🔄 Node: \u001b[1;36mrelevance_check\u001b[0m 🔄\n",
      "- - - - - - - - - - - - - - - - - - - - - - - - - \n",
      "\u001b[1;32mrelevance\u001b[0m:\n",
      "no\n",
      "==================================================\n",
      "\n",
      "==================================================\n",
      "🔄 Node: \u001b[1;36mllm_answer\u001b[0m 🔄\n",
      "- - - - - - - - - - - - - - - - - - - - - - - - - \n",
      "\u001b[1;32manswer\u001b[0m:\n",
      "2024년 노벨 문학상 수상자는 한강 작가입니다. 이는 한국인 최초이자 아시아 여성 최초의 수상입니다.\n",
      "\n",
      "**Source**\n",
      "- [2024년 노벨문학상 수상 작가, 한강 - 문학과지성사](https://moonji.com/38049/)\n",
      "- [2024년 노벨문학상에 한국의 '채식주의자' 작가 한강 수상자 선정 - 노벨사이언스](http://www.nobelscience.net/news/articleView.html?idxno=2189)\n",
      "- [2024 노벨문학상: 한강 작가 수상! - 교보문고](https://event.kyobobook.co.kr/detail/225983)\n",
      "('user', '2024년 노벨 문학상 수상자는?')\n",
      "('assistant', \"2024년 노벨 문학상 수상자는 한강 작가입니다. 이는 한국인 최초이자 아시아 여성 최초의 수상입니다.\\n\\n**Source**\\n- [2024년 노벨문학상 수상 작가, 한강 - 문학과지성사](https://moonji.com/38049/)\\n- [2024년 노벨문학상에 한국의 '채식주의자' 작가 한강 수상자 선정 - 노벨사이언스](http://www.nobelscience.net/news/articleView.html?idxno=2189)\\n- [2024 노벨문학상: 한강 작가 수상! - 교보문고](https://event.kyobobook.co.kr/detail/225983)\")\n",
      "==================================================\n"
     ]
    }
   ],
   "source": [
    "from langchain_core.runnables import RunnableConfig\n",
    "from langchain_teddynote.messages import stream_graph, invoke_graph, random_uuid\n",
    "\n",
    "\n",
    "# config 설정(재귀 최대 횟수, thread_id)\n",
    "config = RunnableConfig(recursion_limit=10, configurable={\"thread_id\": random_uuid()})\n",
    "\n",
    "# 질문 입력\n",
    "inputs = GraphState(question=\"2024년 노벨 문학상 수상자는?\")\n",
    "\n",
    "# 그래프 실행\n",
    "invoke_graph(app, inputs, config, [\"relevance_check\", \"llm_answer\"])"
   ]
  },
  {
   "cell_type": "code",
   "execution_count": 14,
   "id": "5556ce49",
   "metadata": {},
   "outputs": [
    {
     "name": "stdout",
     "output_type": "stream",
     "text": [
      "\n",
      "==================================================\n",
      "🔄 Node: \u001b[1;36mrelevance_check\u001b[0m 🔄\n",
      "- - - - - - - - - - - - - - - - - - - - - - - - - \n",
      "{\"score\":\"no==== [RELEVANCE CHECK] ====\"}\n",
      "no\n",
      "\n",
      "==================================================\n",
      "🔄 Node: \u001b[1;36mllm_answer\u001b[0m 🔄\n",
      "- - - - - - - - - - - - - - - - - - - - - - - - - \n",
      "2024년 노벨 문학상 수상자는 한강 작가입니다. 이는 한국인 최초이자 아시아 여성 최초의 수상입니다.\n",
      "\n",
      "**Source**\n",
      "- [2024년 노벨문학상 수상 작가, 한강 - 문학과지성사](https://moonji.com/38049/)\n",
      "- [2024년 노벨문학상에 한국의 '채식주의자' 작가 한강 수상자 선정 - 노벨사이언스](http://www.nobelscience.net/news/articleView.html?idxno=2189)\n",
      "- [2024 노벨문학상: 한강 작가 수상! - 교보문고](https://event.kyobobook.co.kr/detail/225983)"
     ]
    }
   ],
   "source": [
    "# 그래프 스트리밍 출력\n",
    "stream_graph(app, inputs, config, [\"relevance_check\", \"llm_answer\"])"
   ]
  },
  {
   "cell_type": "code",
   "execution_count": 15,
   "id": "08e7f1d5",
   "metadata": {},
   "outputs": [
    {
     "name": "stdout",
     "output_type": "stream",
     "text": [
      "Question: 2024년 노벨 문학상 수상자는?\n",
      "============================================================\n",
      "Answer:\n",
      "2024년 노벨 문학상 수상자는 한강 작가입니다. 이는 한국인 최초이자 아시아 여성 최초의 수상입니다.\n",
      "\n",
      "**Source**\n",
      "- [2024년 노벨문학상 수상 작가, 한강 - 문학과지성사](https://moonji.com/38049/)\n",
      "- [2024년 노벨문학상에 한국의 '채식주의자' 작가 한강 수상자 선정 - 노벨사이언스](http://www.nobelscience.net/news/articleView.html?idxno=2189)\n",
      "- [2024 노벨문학상: 한강 작가 수상! - 교보문고](https://event.kyobobook.co.kr/detail/225983)\n"
     ]
    }
   ],
   "source": [
    "# 최종 출력 확인\n",
    "outputs = app.get_state(config).values\n",
    "\n",
    "print(f'Question: {outputs[\"question\"]}')\n",
    "print(\"===\" * 20)\n",
    "print(f'Answer:\\n{outputs[\"answer\"]}')"
   ]
  },
  {
   "cell_type": "code",
   "execution_count": null,
   "id": "834def17",
   "metadata": {},
   "outputs": [],
   "source": []
  }
 ],
 "metadata": {
  "kernelspec": {
   "display_name": "langgraph-env",
   "language": "python",
   "name": "python3"
  },
  "language_info": {
   "codemirror_mode": {
    "name": "ipython",
    "version": 3
   },
   "file_extension": ".py",
   "mimetype": "text/x-python",
   "name": "python",
   "nbconvert_exporter": "python",
   "pygments_lexer": "ipython3",
   "version": "3.11.0"
  }
 },
 "nbformat": 4,
 "nbformat_minor": 5
}
