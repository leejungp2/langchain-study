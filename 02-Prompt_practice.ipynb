{
 "cells": [
  {
   "cell_type": "markdown",
   "metadata": {},
   "source": [
    "# 2-1. Prompt Template"
   ]
  },
  {
   "cell_type": "code",
   "execution_count": 1,
   "metadata": {},
   "outputs": [
    {
     "data": {
      "text/plain": [
       "True"
      ]
     },
     "execution_count": 1,
     "metadata": {},
     "output_type": "execute_result"
    }
   ],
   "source": [
    "from dotenv import load_dotenv\n",
    "load_dotenv()"
   ]
  },
  {
   "cell_type": "code",
   "execution_count": 2,
   "metadata": {},
   "outputs": [
    {
     "data": {
      "text/plain": [
       "True"
      ]
     },
     "execution_count": 2,
     "metadata": {},
     "output_type": "execute_result"
    }
   ],
   "source": [
    "# env 파일이 안들어와서 강제 로드\n",
    "import os\n",
    "\n",
    "# .env 파일 강제 로드\n",
    "dotenv_path = os.path.join(os.getcwd(), \".env\")\n",
    "load_dotenv(dotenv_path)"
   ]
  },
  {
   "cell_type": "code",
   "execution_count": 3,
   "metadata": {},
   "outputs": [
    {
     "name": "stdout",
     "output_type": "stream",
     "text": [
      "LangSmith 추적을 시작합니다.\n",
      "[프로젝트명]\n",
      "CH02-Prompt\n"
     ]
    }
   ],
   "source": [
    "# LangSmith 추적을 설정 https://smith.langchain.com\n",
    "!pip install -qU langchain-teddynote\n",
    "from langchain_teddynote import logging\n",
    "\n",
    "# 프로젝트 이름\n",
    "logging.langsmith(\"CH02-Prompt\")"
   ]
  },
  {
   "cell_type": "code",
   "execution_count": 4,
   "metadata": {},
   "outputs": [],
   "source": [
    "from langchain_openai import ChatOpenAI\n",
    "llm = ChatOpenAI()"
   ]
  },
  {
   "cell_type": "code",
   "execution_count": 5,
   "metadata": {},
   "outputs": [],
   "source": [
    "from dotenv import load_dotenv\n",
    "import os\n",
    "\n",
    "# ✅ .env 파일 로드\n",
    "load_dotenv()\n",
    "\n",
    "# ✅ 환경 변수 확인\n",
    "api_key = os.getenv(\"LANGSMITH_API_KEY\")\n",
    "#print(f\"LANGSMITH API Key: {api_key}\")\n"
   ]
  },
  {
   "cell_type": "markdown",
   "metadata": {},
   "source": [
    "### 방법 1. from_template() 메소드 사용하여 PromptTemplate 객체 생성"
   ]
  },
  {
   "cell_type": "code",
   "execution_count": 12,
   "metadata": {},
   "outputs": [
    {
     "data": {
      "text/plain": [
       "PromptTemplate(input_variables=['movie'], template='{movie}의 주인공은 누구인가요?')"
      ]
     },
     "execution_count": 12,
     "metadata": {},
     "output_type": "execute_result"
    }
   ],
   "source": [
    "from langchain_core.prompts import PromptTemplate\n",
    "\n",
    "# from_template 메소드를 이용하여 PromptTemplate 객체 생성\n",
    "prompt = PromptTemplate.from_template(template)\n",
    "prompt"
   ]
  },
  {
   "cell_type": "code",
   "execution_count": 13,
   "metadata": {},
   "outputs": [
    {
     "data": {
      "text/plain": [
       "'Avatar의 주인공은 누구인가요?'"
      ]
     },
     "execution_count": 13,
     "metadata": {},
     "output_type": "execute_result"
    }
   ],
   "source": [
    "# country 변수에 값을 넣어서 문장을 생성할 수 있음\n",
    "# prompt 생성 .format 메소드 이용하여 변수에 값 넣기\n",
    "prompt = prompt.format(movie = \"Avatar\")\n",
    "prompt"
   ]
  },
  {
   "cell_type": "code",
   "execution_count": 14,
   "metadata": {},
   "outputs": [],
   "source": [
    "# template 정의\n",
    "template = \"{movie}의 주인공은 누구인가요?\"\n",
    "\n",
    "# from_template 메소드로 Prompt Template 객체 생성\n",
    "prompt = PromptTemplate.from_template(template)\n",
    "\n",
    "# chain 생성\n",
    "chain = prompt | llm"
   ]
  },
  {
   "cell_type": "code",
   "execution_count": 15,
   "metadata": {},
   "outputs": [
    {
     "data": {
      "text/plain": [
       "'영화 \"아바타\"의 주인공은 제이크 솔리입니다.'"
      ]
     },
     "execution_count": 15,
     "metadata": {},
     "output_type": "execute_result"
    }
   ],
   "source": [
    "# country 변수에 입력된 값이 자동으로 치환되어 수행됨\n",
    "chain.invoke(\"Avatar\").content"
   ]
  },
  {
   "cell_type": "markdown",
   "metadata": {},
   "source": [
    "### 방법 2. PromptTemplate 객체 생성과 동시에 prompt 생성\n",
    "- : 추가 유효성 검사를 위해 'input_variables'를 명시적으로 지정\n",
    "- 이러한 변수는 인스턴스화 중에 템플릿 문자열에 있는 변수와 비교하여 불일치하는 경우 예외를 발생시킴"
   ]
  },
  {
   "cell_type": "code",
   "execution_count": 16,
   "metadata": {},
   "outputs": [
    {
     "data": {
      "text/plain": [
       "PromptTemplate(input_variables=['movie'], template='{movie}의 여자 주인공은 누구인가요?')"
      ]
     },
     "execution_count": 16,
     "metadata": {},
     "output_type": "execute_result"
    }
   ],
   "source": [
    "# template 정의\n",
    "template = \"{movie}의 여자 주인공은 누구인가요?\"\n",
    "\n",
    "# PromptTemplate 객체를 활용하여 prompt_template 생성\n",
    "prompt = PromptTemplate(\n",
    "    template = template,\n",
    "    input_variables = [\"movie\"]\n",
    ")\n",
    "\n",
    "prompt"
   ]
  },
  {
   "cell_type": "code",
   "execution_count": 18,
   "metadata": {},
   "outputs": [
    {
     "data": {
      "text/plain": [
       "'Avatar의 여자 주인공은 누구인가요?'"
      ]
     },
     "execution_count": 18,
     "metadata": {},
     "output_type": "execute_result"
    }
   ],
   "source": [
    "# prompt 생성\n",
    "prompt.format(movie = \"Avatar\")"
   ]
  },
  {
   "cell_type": "code",
   "execution_count": 23,
   "metadata": {},
   "outputs": [
    {
     "data": {
      "text/plain": [
       "PromptTemplate(input_variables=['movie1'], partial_variables={'movie2': 'La la land'}, template='{movie1}와 {movie2}의 여자 주인공은 각각 누구인가요?')"
      ]
     },
     "execution_count": 23,
     "metadata": {},
     "output_type": "execute_result"
    }
   ],
   "source": [
    "# template 정의\n",
    "template = \"{movie1}와 {movie2}의 여자 주인공은 각각 누구인가요?\"\n",
    "\n",
    "# PromptTemplate 객체를 활용하여 prompt_template 생성\n",
    "prompt = PromptTemplate(\n",
    "    template = template,\n",
    "    input_variables = [\"movie1\"],\n",
    "    partial_variables = {\n",
    "        \"movie2\": \"La la land\" #dictionary 형태로 partial_variables 전달\n",
    "    },\n",
    ")\n",
    "\n",
    "prompt"
   ]
  },
  {
   "cell_type": "code",
   "execution_count": 24,
   "metadata": {},
   "outputs": [
    {
     "data": {
      "text/plain": [
       "'Avatar와 La la land의 여자 주인공은 각각 누구인가요?'"
      ]
     },
     "execution_count": 24,
     "metadata": {},
     "output_type": "execute_result"
    }
   ],
   "source": [
    "prompt.format(movie1 = \"Avatar\")"
   ]
  },
  {
   "cell_type": "code",
   "execution_count": 27,
   "metadata": {},
   "outputs": [
    {
     "data": {
      "text/plain": [
       "PromptTemplate(input_variables=['movie1'], partial_variables={'movie2': 'La la land'}, template='{movie1}와 {movie2}의 여자 주인공은 각각 누구인가요?')"
      ]
     },
     "execution_count": 27,
     "metadata": {},
     "output_type": "execute_result"
    }
   ],
   "source": [
    "prompt_partial = prompt.partial(movie2 = \"La la land\")\n",
    "prompt_partial"
   ]
  },
  {
   "cell_type": "code",
   "execution_count": 28,
   "metadata": {},
   "outputs": [
    {
     "data": {
      "text/plain": [
       "'Avatar와 La la land의 여자 주인공은 각각 누구인가요?'"
      ]
     },
     "execution_count": 28,
     "metadata": {},
     "output_type": "execute_result"
    }
   ],
   "source": [
    "prompt_partial.format(movie1 = \"Avatar\")"
   ]
  },
  {
   "cell_type": "markdown",
   "metadata": {},
   "source": [
    "- `PromptTemplate.format()`에서는 partial_variables가 고정됨\n",
    "    - partial_variables로 설정된 값은 format()을 사용할 때 변경되지 않음\n",
    "- 그러나 `chain.invoke()`에서는 llm이 추가적인 입력을 허용할 수 있음"
   ]
  },
  {
   "cell_type": "code",
   "execution_count": 29,
   "metadata": {},
   "outputs": [],
   "source": [
    "chain = prompt_partial | llm"
   ]
  },
  {
   "cell_type": "code",
   "execution_count": null,
   "metadata": {},
   "outputs": [
    {
     "data": {
      "text/plain": [
       "'Avatar의 여자 주인공은 Neytiri이고, La La Land의 여자 주인공은 Mia이다.'"
      ]
     },
     "execution_count": 30,
     "metadata": {},
     "output_type": "execute_result"
    }
   ],
   "source": [
    "chain.invoke(\"Avatar\").content"
   ]
  },
  {
   "cell_type": "code",
   "execution_count": 35,
   "metadata": {},
   "outputs": [
    {
     "data": {
      "text/plain": [
       "AIMessage(content='Substance의 여자 주인공은 에밀리 (Emily)이고, Elemental의 여자 주인공은 제이드 (Jade)입니다.', additional_kwargs={'refusal': None}, response_metadata={'token_usage': {'completion_tokens': 37, 'prompt_tokens': 30, 'total_tokens': 67, 'prompt_tokens_details': {'cached_tokens': 0, 'audio_tokens': 0}, 'completion_tokens_details': {'reasoning_tokens': 0, 'audio_tokens': 0, 'accepted_prediction_tokens': 0, 'rejected_prediction_tokens': 0}}, 'model_name': 'gpt-3.5-turbo-0125', 'system_fingerprint': None, 'finish_reason': 'stop', 'logprobs': None}, id='run-2c431c77-c6e1-47c2-8e29-69f06652bc0f-0', usage_metadata={'input_tokens': 30, 'output_tokens': 37, 'total_tokens': 67})"
      ]
     },
     "execution_count": 35,
     "metadata": {},
     "output_type": "execute_result"
    }
   ],
   "source": [
    "chain.invoke({\"movie1\": \"Substance\", \"movie2\": \"Elemental\"}) #틀림"
   ]
  },
  {
   "cell_type": "code",
   "execution_count": 34,
   "metadata": {},
   "outputs": [
    {
     "data": {
      "text/plain": [
       "AIMessage(content='밀수의 여자 주인공은 조수미이고, 타짜의 여자 주인공은 김하늘입니다.', additional_kwargs={'refusal': None}, response_metadata={'token_usage': {'completion_tokens': 36, 'prompt_tokens': 34, 'total_tokens': 70, 'prompt_tokens_details': {'cached_tokens': 0, 'audio_tokens': 0}, 'completion_tokens_details': {'reasoning_tokens': 0, 'audio_tokens': 0, 'accepted_prediction_tokens': 0, 'rejected_prediction_tokens': 0}}, 'model_name': 'gpt-3.5-turbo-0125', 'system_fingerprint': None, 'finish_reason': 'stop', 'logprobs': None}, id='run-dfcae6f5-1a6d-4247-ba0b-c494c0156eff-0', usage_metadata={'input_tokens': 34, 'output_tokens': 36, 'total_tokens': 70})"
      ]
     },
     "execution_count": 34,
     "metadata": {},
     "output_type": "execute_result"
    }
   ],
   "source": [
    "# 한국 영화\n",
    "chain.invoke({\"movie1\": \"밀수\", \"movie2\": \"타짜\"}) #틀림"
   ]
  },
  {
   "cell_type": "markdown",
   "metadata": {},
   "source": [
    "### hallucination 해결: RAG 사용*"
   ]
  },
  {
   "cell_type": "code",
   "execution_count": 44,
   "metadata": {},
   "outputs": [
    {
     "name": "stdout",
     "output_type": "stream",
     "text": [
      "Requirement already satisfied: wikipedia in /opt/anaconda3/envs/langchain-env/lib/python3.11/site-packages (1.4.0)\n",
      "Requirement already satisfied: beautifulsoup4 in /opt/anaconda3/envs/langchain-env/lib/python3.11/site-packages (from wikipedia) (4.12.3)\n",
      "Requirement already satisfied: requests<3.0.0,>=2.0.0 in /opt/anaconda3/envs/langchain-env/lib/python3.11/site-packages (from wikipedia) (2.32.3)\n",
      "Requirement already satisfied: charset-normalizer<4,>=2 in /opt/anaconda3/envs/langchain-env/lib/python3.11/site-packages (from requests<3.0.0,>=2.0.0->wikipedia) (3.3.2)\n",
      "Requirement already satisfied: idna<4,>=2.5 in /opt/anaconda3/envs/langchain-env/lib/python3.11/site-packages (from requests<3.0.0,>=2.0.0->wikipedia) (3.8)\n",
      "Requirement already satisfied: urllib3<3,>=1.21.1 in /opt/anaconda3/envs/langchain-env/lib/python3.11/site-packages (from requests<3.0.0,>=2.0.0->wikipedia) (2.2.2)\n",
      "Requirement already satisfied: certifi>=2017.4.17 in /opt/anaconda3/envs/langchain-env/lib/python3.11/site-packages (from requests<3.0.0,>=2.0.0->wikipedia) (2024.8.30)\n",
      "Requirement already satisfied: soupsieve>1.2 in /opt/anaconda3/envs/langchain-env/lib/python3.11/site-packages (from beautifulsoup4->wikipedia) (2.6)\n"
     ]
    }
   ],
   "source": [
    "!pip install wikipedia"
   ]
  },
  {
   "cell_type": "code",
   "execution_count": 47,
   "metadata": {},
   "outputs": [
    {
     "name": "stdout",
     "output_type": "stream",
     "text": [
      "\n",
      "\n",
      "\u001b[1m> Entering new AgentExecutor chain...\u001b[0m\n",
      "\u001b[32;1m\u001b[1;3mAction: [wikipedia]\n",
      "Action Input: Substance (film)\u001b[0m\n",
      "Observation: [wikipedia] is not a valid tool, try one of [wikipedia].\n",
      "Thought:\u001b[32;1m\u001b[1;3mAction: wikipedia\n",
      "Action Input: Substance (film) female lead actress\n",
      "\u001b[0m\n",
      "Observation: \u001b[36;1m\u001b[1;3mPage: The Substance\n",
      "Summary: The Substance is a 2024 body horror film written and directed by Coralie Fargeat. It follows a fading celebrity, Elisabeth Sparkle (Demi Moore) who, after being fired by her producer (Dennis Quaid) due to her age, uses a black market drug that creates a younger version of herself (Margaret Qualley) with unexpected side effects. It has been widely compared to Death Becomes Her (1992).\n",
      "Noted for its satirical elements and grotesque, hyperrealistic imagery, The Substance is Fargeat's second feature film, after Revenge. Motivated by societal pressures on women's bodies and aging, she wrote the screenplay over two years, assembling a team to co-produce the film between France, the United Kingdom, and the United States. Principal photography in France lasted 108 days. It made extensive use of prosthetic makeup designed by Pierre-Olivier Persin and primarily practical effects; these included suits, puppetry, dummies, insert shots, and approximately 21,000 liters (5,500 US gallons) of fake blood to portray Elisabeth's drug-induced transformation. The film score was written by Raffertie and features a cover of \"Pump It Up!\" by DJ Endor.\n",
      "The Substance premiered on May 19, 2024 at the 77th Cannes Film Festival main competition, where Fargeat won Best Screenplay. It was released theatrically in the United Kingdom and the United States by Mubi on September 20, 2024, and in France by Metropolitan Filmexport on November 6, 2024. At the box office, the film grossed $77 million on a $17.5 million production budget and became Mubi's highest-grossing film. It received critical acclaim and earned numerous accolades, including five nominations each at the 97th Academy Awards (including Best Picture) and the 82nd Golden Globe Awards (including Best Motion Picture – Musical or Comedy). For her performance, Moore won the Golden Globe Award for Best Actress in a Motion Picture – Musical or Comedy, the Screen Actors Guild Award, and earned Best Actress nominations at the Academy Awards and the BAFTA Awards.\n",
      "\n",
      "Page: List of accolades received by The Substance\n",
      "Summary: The Substance is a 2024 body horror film with satirical elements written, directed, co-edited, and co-produced by Coralie Fargeat. It follows Elisabeth Sparkle (Demi Moore), a fading celebrity, who, after being fired by her producer (Dennis Quaid) due to her age, uses a black market drug that creates a much younger version of herself (Margaret Qualley) with unexpected side effects.\n",
      "The film has received various awards and nominations from critics and industry organizations. It had its world premiere on May 19, 2024, in the main competition at the 77th Cannes Film Festival, competing for the Palme d'Or, where Fargeat was awarded Best Screenplay. At the 82nd Golden Globe Awards, Moore won Best Actress in a Motion Picture – Musical or Comedy, while the film was nominated for Best Motion Picture – Musical or Comedy.\n",
      "At the 97th Academy Awards, the film was nominated for five awards, including Best Picture, Best Director for Fargeat, and Best Actress for Moore; Fargeat became the ninth woman nominated for directing.\n",
      "\n",
      "Page: List of awards and nominations received by Demi Moore\n",
      "Summary: The following is a list of awards, honors, and nominations received by American actress Demi Moore. Among her various accolades, she has received a Golden Globe Award, a Critics' Choice Award, a Screen Actors Guild Award, and an Independent Spirit Award as well as nominations for an Academy Award, a British Academy Film Award, a Directors Guild of America Award, and a Primetime Emmy Award.\n",
      "Moore made her film debut with the science fiction horror film Parasite (1982), and subsequently appeared on the soap opera General Hospital (1982–1984) and was a short-lived member of the Brat Pack, having roles in Blame It on Rio (1984), St. Elmo's Fire (1985), and About Last Night... (1986). Her role as Molly Jensen in the romantic fantasy thriller film Ghost (1990) garnered her praise; she earned \u001b[0m\n",
      "Thought:\u001b[32;1m\u001b[1;3mAction: wikipedia\n",
      "Action Input: Elemental (film)\n",
      "\u001b[0m"
     ]
    },
    {
     "name": "stderr",
     "output_type": "stream",
     "text": [
      "/opt/anaconda3/envs/langchain-env/lib/python3.11/site-packages/wikipedia/wikipedia.py:389: GuessedAtParserWarning: No parser was explicitly specified, so I'm using the best available HTML parser for this system (\"lxml\"). This usually isn't a problem, but if you run this code on another system, or in a different virtual environment, it may use a different parser and behave differently.\n",
      "\n",
      "The code that caused this warning is on line 389 of the file /opt/anaconda3/envs/langchain-env/lib/python3.11/site-packages/wikipedia/wikipedia.py. To get rid of this warning, pass the additional argument 'features=\"lxml\"' to the BeautifulSoup constructor.\n",
      "\n",
      "  lis = BeautifulSoup(html).find_all('li')\n"
     ]
    },
    {
     "name": "stdout",
     "output_type": "stream",
     "text": [
      "\n",
      "Observation: \u001b[36;1m\u001b[1;3mPage: Elemental (2023 film)\n",
      "Summary: Elemental is a 2023 American animated romantic comedy-drama film produced by Pixar Animation Studios for Walt Disney Pictures. Directed by Peter Sohn and produced by Denise Ream, it was written by Sohn, John Hoberg, Kat Likkel, and Brenda Hsueh. The film stars the voices of Leah Lewis, Mamoudou Athie, Ronnie del Carmen, Shila Ommi, Wendi McLendon-Covey, and Catherine O'Hara. Set in a world inhabited by anthropomorphic elements of nature, the story follows fire element Ember Lumen and water element Wade Ripple, who spend time together in the city while trying to save a convenience store owned by Ember's father, Bernie.\n",
      "Development of Elemental began when Sohn pitched the concept to Pixar based on the idea of whether fire and water could ever connect or not. The film draws inspiration from Sohn's youth, growing up as the son of immigrants in New York City during the 1970s, highlighting the city's distinct cultural and ethnic diversity while the story is inspired by romantic films such as Guess Who's Coming to Dinner (1967), Moonstruck (1987), and Amélie (2001). The production team conducted research by spending many hours watching point-of-view city tours on YouTube like Venice and Amsterdam for inspiration. Animation tools were utilized to design the visual effects and appearance of each character, particularly its main characters. Production on Elemental lasted for seven years, both in the studio and at the filmmakers' homes, on an estimated $200 million budget. Thomas Newman composed the score, and Lauv wrote and performed the song \"Steal the Show\". The film is dedicated to Pixar animators Ralph Eggleston, Thomas Gonzales, Amber Martorelli, and J. Garrett Sheldrew, all of whom died in 2022.\n",
      "Elemental debuted out of competition as the closing film at the 76th Cannes Film Festival on May 27, 2023, and was released in the United States on June 16 in RealD 3D, 4DX, and Dolby Cinema formats. Despite initially opening below projections, the film was ultimately considered by analysts to be a sleeper hit and grossed $496.4 million worldwide. It was nominated for several awards, including the Academy Award for Best Animated Feature and the Golden Globe Award for Best Animated Feature Film.\n",
      "\n",
      "Page: Elemental (soundtrack)\n",
      "Summary: Elemental (Original Motion Picture Soundtrack) is the soundtrack album to the 2023 Disney/Pixar film of the same name. The original score is composed by Thomas Newman in his fourth Pixar film, following Finding Nemo (2003), WALL-E (2008), and Finding Dory (2016). Elemental is Newman's first Pixar film not to be directed by Andrew Stanton. Director Peter Sohn collaborated with Newman to tell an emotional story of a character caught between two worlds to musically bring Elemental to life. Newman used cultural influences from across the globe using Chinese and Indian instruments by incorporating elements to reflect the global story. The instruments of sitar, mandolins and brass  all fit his search for scoring the film, though the electronic wind instrument can be heard throughout. \n",
      "The scoring was held at Newman Scoring Stage and Fox Studio Lot in Los Angeles. In addition to instrumental tracks, the soundtrack included an original song called \"Steal the Show\" performed by Lauv, who wrote music alongside Newman and lyrics  alongside Michael Matosic. The song was released on June 2, 2023, two weeks ahead of the release of the movie and soundtrack. The score was released by Walt Disney Records on June 16, 2023, the same day as the film's theatrical release.\n",
      "It received mostly positive reception for incorporating many elements of cultural influences from eastern countries, particularly Indian music.\u001b[0m\n",
      "Thought:\u001b[32;1m\u001b[1;3mI now know the final answer.\n",
      "\n",
      "Final Answer: The female lead of the film \"The Substance\" is Demi Moore, who plays the character Elisabeth Sparkle. In \"Elemental,\" the female lead is the voice of Ember Lumen, played by Leah Lewis.\u001b[0m\n",
      "\n",
      "\u001b[1m> Finished chain.\u001b[0m\n",
      "The female lead of the film \"The Substance\" is Demi Moore, who plays the character Elisabeth Sparkle. In \"Elemental,\" the female lead is the voice of Ember Lumen, played by Leah Lewis.\n"
     ]
    }
   ],
   "source": [
    "\n",
    "from langchain.tools import WikipediaQueryRun\n",
    "from langchain.utilities import WikipediaAPIWrapper\n",
    "from langchain.agents import initialize_agent\n",
    "from langchain.chat_models import ChatOpenAI\n",
    "\n",
    "# Wikipedia 검색 API 래퍼 생성\n",
    "wiki_api = WikipediaAPIWrapper()\n",
    "\n",
    "# Wikipedia 검색 도구 생성\n",
    "wiki_tool = WikipediaQueryRun(api_wrapper=wiki_api)\n",
    "\n",
    "# LLM + Wikipedia 검색 에이전트 설정\n",
    "llm = ChatOpenAI(model=\"gpt-4o\")\n",
    "\n",
    "agent = initialize_agent(\n",
    "    tools=[wiki_tool],\n",
    "    llm=llm,\n",
    "    agent=\"zero-shot-react-description\",\n",
    "    verbose=True,\n",
    ")\n",
    "\n",
    "# 질문 실행\n",
    "question = \"영화 Substance와 영화 Elemental의 여자 주인공은 누구인가요?\"\n",
    "response = agent.run(question)\n",
    "\n",
    "print(response)"
   ]
  },
  {
   "cell_type": "markdown",
   "metadata": {},
   "source": [
    "### 'partial_variables': 부분 변수 채움\n",
    "- 항상 공통된 방식으로 가져오고 싶은 변수가 있는 경우 ex) 날짜, 시간\n",
    "- 항상 현재 날짜가 표시되기를 원하는 프롬프트가 있을 경우, 현재 날짜 반환 함수를 사용하여 프롬프트를 부분적으로 변경할 수 있으면 매우 편리함"
   ]
  },
  {
   "cell_type": "code",
   "execution_count": 53,
   "metadata": {},
   "outputs": [
    {
     "data": {
      "text/plain": [
       "'February 24'"
      ]
     },
     "execution_count": 53,
     "metadata": {},
     "output_type": "execute_result"
    }
   ],
   "source": [
    "from datetime import datetime, timedelta\n",
    "\n",
    "# 오늘 날짜 출력\n",
    "datetime.now().strftime(\"%B %d\")"
   ]
  },
  {
   "cell_type": "code",
   "execution_count": 54,
   "metadata": {},
   "outputs": [],
   "source": [
    "# 날짜 반환 함수 정의\n",
    "def get_today():\n",
    "    return datetime.now().strftime(\"%B %d\")\n",
    "\n",
    "# 어제 날짜 반환 함수 정의\n",
    "def get_yesterday():\n",
    "    return (datetime.now() - timedelta(days=1)).strftime(\"%B %d\")"
   ]
  },
  {
   "cell_type": "code",
   "execution_count": 55,
   "metadata": {},
   "outputs": [],
   "source": [
    "prompt = PromptTemplate(\n",
    "    template = \"어제의 날짜는 {yesterday} 입니다. 어제가 생일인 정치인 {n}명을 나열해 주세요. 생년월일을 표기해주세요.\",\n",
    "    input_variables=[\"n\"],\n",
    "    partial_variables = {\"yesterday\": get_yesterday}, #dictionary 형태로 partial_variables 전달\n",
    ")"
   ]
  },
  {
   "cell_type": "code",
   "execution_count": 56,
   "metadata": {},
   "outputs": [
    {
     "data": {
      "text/plain": [
       "'어제의 날짜는 February 23 입니다. 어제가 생일인 정치인 5명을 나열해 주세요. 생년월일을 표기해주세요.'"
      ]
     },
     "execution_count": 56,
     "metadata": {},
     "output_type": "execute_result"
    }
   ],
   "source": [
    "# prompt 생성\n",
    "prompt.format(n=5)"
   ]
  },
  {
   "cell_type": "code",
   "execution_count": 57,
   "metadata": {},
   "outputs": [],
   "source": [
    "# chain 생성\n",
    "chain = prompt | llm"
   ]
  },
  {
   "cell_type": "code",
   "execution_count": null,
   "metadata": {},
   "outputs": [
    {
     "name": "stdout",
     "output_type": "stream",
     "text": [
      "February 23일이 생일인 정치인 중 잘 알려진 몇 명을 소개하겠습니다.\n",
      "\n",
      "1. 빌리 브란트 (Willy Brandt) - 1913년 2월 23일: 독일의 정치인으로 서독의 총리를 역임했습니다.\n",
      "2. 박근혜 (Park Geun-hye) - 1952년 2월 23일: 대한민국의 정치인으로 제18대 대통령을 지냈습니다.\n",
      "3. 조지프 W. 마틴 주니어 (Joseph W. Martin Jr.) - 1884년 2월 23일: 미국의 정치인으로, 하원의장을 역임했습니다.\n",
      "4. 빅터 야누코비치 (Viktor Yanukovych) - 1950년 2월 23일: 우크라이나의 정치인으로, 대통령을 역임했습니다.\n",
      "5. 키라 라드릭 (Kira Rudik) - 1985년 2월 23일: 우크라이나의 정치인으로, 하원의원을 역임하고 있습니다.\n",
      "\n",
      "이 외에도 여러 정치인들이 이 날짜에 태어났을 수 있으며, 생일을 기념하는 다른 인물들도 있을 수 있습니다.\n"
     ]
    }
   ],
   "source": [
    "# chain 실행 후 결과 확인\n",
    "print(chain.invoke(5).content) # 태어난 연도는 맞고 날짜는 틀림"
   ]
  },
  {
   "cell_type": "code",
   "execution_count": 60,
   "metadata": {},
   "outputs": [
    {
     "name": "stdout",
     "output_type": "stream",
     "text": [
      "어제 날짜가 3월 2일이라면, 그 날짜에 태어난 잘 알려진 정치인 중 세 명을 다음과 같이 나열할 수 있습니다.\n",
      "\n",
      "1. 미하일 고르바초프 (Mikhail Gorbachev) - 1931년 3월 2일 출생. 소련의 마지막 지도자로, 페레스트로이카와 글라스노스트 정책을 추진했습니다.\n",
      "\n",
      "2. 샘 휴스턴 (Sam Houston) - 1793년 3월 2일 출생. 미국의 정치인으로, 텍사스 공화국의 초대 대통령이자 미국 상원의원 및 텍사스 주지사를 역임했습니다.\n",
      "\n",
      "3. 모리스 맥도널드 (Maurice Macdonald) - 1902년 3월 2일 출생. 미국의 정치인으로, 여러 정치적 역할을 수행했습니다.\n",
      "\n",
      "이 정치인들은 3월 2일에 태어났으며, 각자의 분야에서 중요한 역할을 했습니다.\n"
     ]
    }
   ],
   "source": [
    "print(chain.invoke({\"yesterday\": \"Mar 02\", \"n\": 3}).content)"
   ]
  },
  {
   "cell_type": "markdown",
   "metadata": {},
   "source": [
    "### 파일로부터 template 읽어오기"
   ]
  },
  {
   "cell_type": "code",
   "execution_count": 62,
   "metadata": {},
   "outputs": [
    {
     "data": {
      "text/plain": [
       "PromptTemplate(name='movie_info', input_variables=['movie'], template='{movie}의 정보에 대해서 알려주세요.\\n영화의 특징을 다음의 양식에 맞게 정리해 주세요.\\n300자 내외로 작성해 주세요.\\n한글로 작성해 주세요.\\n----\\n[양식]\\n1. 영화 제목\\n2. 장르\\n3. 감독\\n4. 배우')"
      ]
     },
     "execution_count": 62,
     "metadata": {},
     "output_type": "execute_result"
    }
   ],
   "source": [
    "from langchain_core.prompts import load_prompt\n",
    "\n",
    "prompt = load_prompt(\"prompts/movie.yaml\")\n",
    "prompt"
   ]
  },
  {
   "cell_type": "code",
   "execution_count": 63,
   "metadata": {},
   "outputs": [
    {
     "data": {
      "text/plain": [
       "PromptTemplate(name='movie_info', input_variables=['movie'], template='{movie}의 정보에 대해서 알려주세요.\\n영화의 특징을 다음의 양식에 맞게 정리해 주세요.\\n300자 내외로 작성해 주세요.\\n한글로 작성해 주세요.\\n----\\n[양식]\\n1. 영화 제목\\n2. 장르\\n3. 감독\\n4. 배우')"
      ]
     },
     "execution_count": 63,
     "metadata": {},
     "output_type": "execute_result"
    }
   ],
   "source": [
    "from langchain_core.prompts import load_prompt\n",
    "\n",
    "prompt = load_prompt(\"prompts/movie.yaml\", encoding=\"utf-8\")\n",
    "prompt"
   ]
  },
  {
   "cell_type": "code",
   "execution_count": 64,
   "metadata": {},
   "outputs": [
    {
     "data": {
      "text/plain": [
       "'Avatar의 정보에 대해서 알려주세요.\\n영화의 특징을 다음의 양식에 맞게 정리해 주세요.\\n300자 내외로 작성해 주세요.\\n한글로 작성해 주세요.\\n----\\n[양식]\\n1. 영화 제목\\n2. 장르\\n3. 감독\\n4. 배우'"
      ]
     },
     "execution_count": 64,
     "metadata": {},
     "output_type": "execute_result"
    }
   ],
   "source": [
    "prompt.format(movie=\"Avatar\")"
   ]
  },
  {
   "cell_type": "code",
   "execution_count": null,
   "metadata": {},
   "outputs": [
    {
     "name": "stdout",
     "output_type": "stream",
     "text": [
      "Avatar의 정보에 대해서 알려주세요.\n",
      "영화의 특징을 다음의 양식에 맞게 정리해 주세요.\n",
      "300자 내외로 작성해 주세요.\n",
      "한글로 작성해 주세요.\n",
      "----\n",
      "[양식]\n",
      "1. 영화 제목\n",
      "2. 장르\n",
      "3. 감독\n",
      "4. 배우\n"
     ]
    }
   ],
   "source": [
    "prompt = load_prompt(\"prompts/movie.yaml\")\n",
    "print(prompt.format(movie=\"Avatar\")) #출력 모양이 다름"
   ]
  },
  {
   "cell_type": "markdown",
   "metadata": {},
   "source": [
    "### MessagePlaceholder"
   ]
  },
  {
   "cell_type": "code",
   "execution_count": 67,
   "metadata": {},
   "outputs": [
    {
     "data": {
      "text/plain": [
       "ChatPromptTemplate(input_variables=['conversation', 'word_count'], input_types={'conversation': typing.List[typing.Union[langchain_core.messages.ai.AIMessage, langchain_core.messages.human.HumanMessage, langchain_core.messages.chat.ChatMessage, langchain_core.messages.system.SystemMessage, langchain_core.messages.function.FunctionMessage, langchain_core.messages.tool.ToolMessage]]}, messages=[SystemMessagePromptTemplate(prompt=PromptTemplate(input_variables=[], template='당신은 요약 전문 AI 어시스턴트입니다. 당신의 임무는 주요 키워드로 대화를 요약하는 것입니다.')), MessagesPlaceholder(variable_name='conversation'), HumanMessagePromptTemplate(prompt=PromptTemplate(input_variables=['word_count'], template='지금까지의 대화를 {word_count} 단어로 요약합니다.'))])"
      ]
     },
     "execution_count": 67,
     "metadata": {},
     "output_type": "execute_result"
    }
   ],
   "source": [
    "from langchain_core.output_parsers import StrOutputParser\n",
    "from langchain_core.prompts import ChatPromptTemplate, MessagesPlaceholder\n",
    "\n",
    "chat_prompt = ChatPromptTemplate.from_messages(\n",
    "    [\n",
    "        (\n",
    "            \"system\",\n",
    "            \"당신은 요약 전문 AI 어시스턴트입니다. 당신의 임무는 주요 키워드로 대화를 요약하는 것입니다.\",\n",
    "        ),\n",
    "        MessagesPlaceholder(variable_name = \"conversation\"),\n",
    "        (\"human\", \"지금까지의 대화를 {word_count} 단어로 요약합니다.\"),\n",
    "    ]\n",
    ")\n",
    "\n",
    "chat_prompt"
   ]
  },
  {
   "cell_type": "code",
   "execution_count": 77,
   "metadata": {},
   "outputs": [
    {
     "name": "stdout",
     "output_type": "stream",
     "text": [
      "System: 당신은 요약 전문 AI 어시스턴트입니다. 당신의 임무는 주요 키워드로 대화를 요약하는 것입니다.\n",
      "Human: 안녕하세요! 저는 도전자 쉐프 나폴리맛피아입니다.\n",
      "AI: 반가워요! 나폴리맛피아님의 요리를 평가하겠습니다.\n",
      "Human: 지금까지의 대화를 5 단어로 요약합니다.\n"
     ]
    }
   ],
   "source": [
    "# conversation 대화 목록을 나중에 추가하고자 할 떄 MessagesPlaceholder 사용\n",
    "formatted_chat_prompt = chat_prompt.format(\n",
    "    word_count = 5,\n",
    "    conversation = [\n",
    "        (\"human\", \"안녕하세요! 저는 도전자 쉐프 나폴리맛피아입니다.\"),\n",
    "        (\"ai\", \"반가워요! 나폴리맛피아님의 요리를 평가하겠습니다.\")\n",
    "    ],\n",
    ")\n",
    "\n",
    "print(formatted_chat_prompt)"
   ]
  },
  {
   "cell_type": "code",
   "execution_count": 78,
   "metadata": {},
   "outputs": [],
   "source": [
    "# chain 생성\n",
    "chain = chat_prompt | llm | StrOutputParser()"
   ]
  },
  {
   "cell_type": "code",
   "execution_count": 79,
   "metadata": {},
   "outputs": [
    {
     "data": {
      "text/plain": [
       "'도전자 쉐프, 나폴리맛피아 소개.'"
      ]
     },
     "execution_count": 79,
     "metadata": {},
     "output_type": "execute_result"
    }
   ],
   "source": [
    "# chain 실행 및 확인\n",
    "chain.invoke(\n",
    "    {\n",
    "        \"word_count\": 5,\n",
    "        \"conversation\": [\n",
    "            (\"human\", \"안녕하세요! 저는 도전자 쉐프 나폴리맛피아입니다.\",),\n",
    "            (\"ai\", \"반가워요! 나폴리맛피아님의 요리를 평가하겠습니다.\"),\n",
    "        ],\n",
    "    }\n",
    ")"
   ]
  },
  {
   "cell_type": "markdown",
   "metadata": {},
   "source": [
    "# 2-2. 퓨샷 프롬프트"
   ]
  },
  {
   "cell_type": "markdown",
   "metadata": {},
   "source": [
    "### FewShotPromptTemplate"
   ]
  },
  {
   "cell_type": "code",
   "execution_count": 85,
   "metadata": {},
   "outputs": [
    {
     "name": "stdout",
     "output_type": "stream",
     "text": [
      "대한민국의 수도는 서울입니다."
     ]
    }
   ],
   "source": [
    "from langchain_openai import ChatOpenAI\n",
    "from langchain_teddynote.messages import stream_response\n",
    "\n",
    "# 객체 생성\n",
    "llm = ChatOpenAI(\n",
    "    temperature = 0, # 창의성 (0: 보수적, 1: 창의적)\n",
    "    model_name = \"gpt-4-turbo\" # 모델명\n",
    ")\n",
    "\n",
    "# 질의내용\n",
    "question = \"대한민국의 수도는 뭐야?\"\n",
    "\n",
    "# 질의\n",
    "answer = llm.stream(question)\n",
    "stream_response(answer)"
   ]
  },
  {
   "cell_type": "code",
   "execution_count": 90,
   "metadata": {},
   "outputs": [],
   "source": [
    "from langchain_core.prompts.few_shot import FewShotPromptTemplate\n",
    "from langchain_core.prompts import PromptTemplate\n",
    "from langchain_core.output_parsers import StrOutputParser\n",
    "\n",
    "# few-shot 예제 데이터 생성\n",
    "\n",
    "examples = [\n",
    "    {\n",
    "        \"question\": \"나폴리맛피아와 에드워드리 중 누가 요리 대결에서 이겼나요?\",\n",
    "        \"answer\": \"\"\"이 질문에 추가 질문이 필요한가요: 예.\n",
    "추가 질문: 나폴리맛피아는 몇 점을 받았나요?\n",
    "중간 답변: 나폴리맛피아는 92점을 받았습니다.\n",
    "추가 질문: 에드워드리는 몇 점을 받았나요?\n",
    "중간 답변: 에드워드리는 88점을 받았습니다.\n",
    "최종 답변은: 나폴리맛피아\n",
    "\"\"\",\n",
    "    },\n",
    "    {\n",
    "        \"question\": \"카카오의 창립자는 언제 태어났나요?\",\n",
    "        \"answer\": \"\"\"이 질문에 추가 질문이 필요한가요: 예.\n",
    "        추가 질문: 카카오의 창립자는 누구인가요?\n",
    "        중간 답변: 카카오는 김범수에 의해 창립되었습니다.\n",
    "        추가 질문: 김범수는 언제 태어났나요?\n",
    "        중간 답변: 김범수는 1966년 3월 8일에 태어났습니다.\n",
    "        최종 답변은: 1966년 3월 8일\"\n",
    "    \n",
    "\"\"\",\n",
    "    },\n",
    "    {\n",
    "        \"question\": \"율곡 이이의 어머니가 태어난 해에 통치하던 왕은 누구인가요?\",\n",
    "        \"answer\": \"\"\"이 질문에 추가 질문이 필요한가요: 예.\n",
    "추가 질문: 율곡 이이의 어머니는 누구인가요?\n",
    "중간 답변: 율곡 이이의 어머니는 신사임당입니다.\n",
    "추가 질문: 신사임당은 언제 태어났나요?\n",
    "중간 답변: 신사임당은 1504년에 태어났습니다.\n",
    "추가 질문: 1504년에 조선을 통치한 왕은 누구인가요?\n",
    "중간 답변: 1504년에 조선을 통치한 왕은 연산군입니다.\n",
    "최종 답변은: 연산군\n",
    "\"\"\"\n",
    "    },\n",
    "    {\n",
    "        \n",
    "        \"question\": \"살인의 추억과 마더의 감독이 같은 나라 출신인가요?\",\n",
    "        \"answer\": \"\"\"이 질문에 추가 질문이 필요한가요: 예.\n",
    "추가 질문: 살인의 추억의 감독은 누구인가요?\n",
    "중간 답변: 살인의 추억의 감독은 봉준호입니다.\n",
    "추가 질문: 봉준호는 어느 나라 출신인가요?\n",
    "중간 답변: 봉준호는 대한민국 출신입니다.\n",
    "추가 질문: 마더의 감독은 누구인가요?\n",
    "중간 답변: 마더의 감독은 봉준호입니다.\n",
    "추가 질문: 봉준호는 어느 나라 출신인가요?\n",
    "중간 답변: 봉준호는 대한민국 출신입니다.\n",
    "최종 답변은: 예\"\n",
    "    \n",
    "\"\"\",\n",
    "    },\n",
    "]"
   ]
  },
  {
   "cell_type": "code",
   "execution_count": 91,
   "metadata": {},
   "outputs": [
    {
     "name": "stdout",
     "output_type": "stream",
     "text": [
      "Question:\n",
      "나폴리맛피아와 에드워드리 중 누가 요리 대결에서 이겼나요?\n",
      "Answer:\n",
      "이 질문에 추가 질문이 필요한가요: 예.\n",
      "추가 질문: 나폴리맛피아는 몇 점을 받았나요?\n",
      "중간 답변: 나폴리맛피아는 92점을 받았습니다.\n",
      "추가 질문: 에드워드리는 몇 점을 받았나요?\n",
      "중간 답변: 에드워드리는 88점을 받았습니다.\n",
      "최종 답변은: 나폴리맛피아\n",
      "\n"
     ]
    }
   ],
   "source": [
    "example_prompt = PromptTemplate.from_template(\n",
    "    \"Question:\\n{question}\\nAnswer:\\n{answer}\"\n",
    ")\n",
    "\n",
    "print(example_prompt.format(**examples[0]))"
   ]
  },
  {
   "cell_type": "code",
   "execution_count": null,
   "metadata": {},
   "outputs": [
    {
     "name": "stdout",
     "output_type": "stream",
     "text": [
      "Question:\n",
      "나폴리맛피아와 에드워드리 중 누가 요리 대결에서 이겼나요?\n",
      "Answer:\n",
      "이 질문에 추가 질문이 필요한가요: 예.\n",
      "추가 질문: 나폴리맛피아는 몇 점을 받았나요?\n",
      "중간 답변: 나폴리맛피아는 92점을 받았습니다.\n",
      "추가 질문: 에드워드리는 몇 점을 받았나요?\n",
      "중간 답변: 에드워드리는 88점을 받았습니다.\n",
      "최종 답변은: 나폴리맛피아\n",
      "\n",
      "\n",
      "Question:\n",
      "네이버의 창립자는 언제 태어났나요?\n",
      "Answer:\n",
      "이 질문에 추가 질문이 필요한가요: 예.\n",
      "추가 질문: 네이버의 창립자는 누구인가요?\n",
      "중간 답변: 네이버는 이해진에 의해 창립되었습니다.\n",
      "추가 질문: 이해진은 언제 태어났나요?\n",
      "중간 답변: 이해진은 1967년 6월 22일에 태어났습니다.\n",
      "최종 답변은: 1967년 6월 22일\n",
      "\n",
      "\n",
      "Question:\n",
      "율곡 이이의 어머니가 태어난 해에 통치하던 왕은 누구인가요?\n",
      "Answer:\n",
      "이 질문에 추가 질문이 필요한가요: 예.\n",
      "추가 질문: 율곡 이이의 어머니는 누구인가요?\n",
      "중간 답변: 율곡 이이의 어머니는 신사임당입니다.\n",
      "추가 질문: 신사임당은 언제 태어났나요?\n",
      "중간 답변: 신사임당은 1504년에 태어났습니다.\n",
      "추가 질문: 1504년에 조선을 통치한 왕은 누구인가요?\n",
      "중간 답변: 1504년에 조선을 통치한 왕은 연산군입니다.\n",
      "최종 답변은: 연산군\n",
      "\n",
      "\n",
      "Question:\n",
      "올드보이와 기생충의 감독이 같은 나라 출신인가요?\n",
      "Answer:\n",
      "이 질문에 추가 질문이 필요한가요: 예.\n",
      "추가 질문: 올드보이의 감독은 누구인가요?\n",
      "중간 답변: 올드보이의 감독은 박찬욱입니다.\n",
      "추가 질문: 박찬욱은 어느 나라 출신인가요?\n",
      "중간 답변: 박찬욱은 대한민국 출신입니다.\n",
      "추가 질문: 기생충의 감독은 누구인가요?\n",
      "중간 답변: 기생충의 감독은 봉준호입니다.\n",
      "추가 질문: 봉준호는 어느 나라 출신인가요?\n",
      "중간 답변: 봉준호는 대한민국 출신입니다.\n",
      "최종 답변은: 예\n",
      "\n",
      "\n",
      "Question:\n",
      "Google이 창립된 연도에 Bill Gates의 나이는 몇 살인가요?\n",
      "Answer:\n"
     ]
    }
   ],
   "source": [
    "## 방법1\n",
    "prompt = FewShotPromptTemplate(\n",
    "    examples = examples,\n",
    "    example_prompt = example_prompt,\n",
    "    suffix = \"Question:\\n{question}\\nAnswer:\",\n",
    "    input_variables = [\"question\"],\n",
    ")\n",
    "\n",
    "question = \"Google이 창립된 연도에 Bill Gates의 나이는 몇 살인가요?\"\n",
    "final_prompt = prompt.format(question = question)\n",
    "print(final_prompt)"
   ]
  },
  {
   "cell_type": "code",
   "execution_count": 92,
   "metadata": {},
   "outputs": [
    {
     "name": "stdout",
     "output_type": "stream",
     "text": [
      "이 질문에 추가 질문이 필요한가요: 예.\n",
      "추가 질문: Google은 언제 창립되었나요?\n",
      "중간 답변: Google은 1998년에 창립되었습니다.\n",
      "추가 질문: Bill Gates는 언제 태어났나요?\n",
      "중간 답변: Bill Gates는 1955년 10월 28일에 태어났습니다.\n",
      "최종 답변은: 1998년에 Bill Gates의 나이는 43살입니다."
     ]
    }
   ],
   "source": [
    "# 결과 출력\n",
    "answer = llm.stream(final_prompt)\n",
    "stream_response(answer)"
   ]
  },
  {
   "cell_type": "code",
   "execution_count": null,
   "metadata": {},
   "outputs": [
    {
     "name": "stdout",
     "output_type": "stream",
     "text": [
      "이 질문에 추가 질문이 필요한가요: 예.\n",
      "추가 질문: Google은 언제 창립되었나요?\n",
      "중간 답변: Google은 1998년에 창립되었습니다.\n",
      "추가 질문: Bill Gates는 언제 태어났나요?\n",
      "중간 답변: Bill Gates는 1955년 10월 28일에 태어났습니다.\n",
      "최종 답변은: 1998년에 Bill Gates의 나이는 43살입니다."
     ]
    }
   ],
   "source": [
    "## 방법2\n",
    "prompt = FewShotPromptTemplate(\n",
    "    examples = examples,\n",
    "    example_prompt = example_prompt,\n",
    "    suffix = \"Question:\\n{question}\\nAnswer:\",\n",
    "    input_variables = [\"question\"],\n",
    ")\n",
    "\n",
    "#chain 생성\n",
    "chain = prompt | llm | StrOutputParser()\n",
    "\n",
    "# 결과 출력\n",
    "answer = chain.stream(\n",
    "    {\"question\": \"Google이 창립된 연도에 Bill Gates의 나이는 몇 살인가요?\"}\n",
    ")\n",
    "stream_response(answer)"
   ]
  },
  {
   "cell_type": "markdown",
   "metadata": {},
   "source": [
    "**<방법 1, 방법 2 차이점>**\n",
    "| 구분 | 방법1 (`format()` 후 실행) | 방법2 (`chain` 사용) |\n",
    "|---|---|---|\n",
    "| **프롬프트 생성** | `format()`을 직접 호출해야 함 | `chain.invoke()` 또는 `chain.stream()`이 자동 처리 |\n",
    "| **실행 방식** | 수동으로 `final_prompt`를 만든 후 `llm.stream()` 실행 | `chain`을 통해 `FewShotPromptTemplate → LLM → Output Parsing`을 자동화 |\n",
    "| **출력 처리** | `llm.stream(final_prompt)`을 직접 호출 | `StrOutputParser()`가 포함되어 있어 LLM 응답을 자동 변환 |\n",
    "| **유지보수 용이성** | 체인이 없어서 복잡한 파이프라인을 만들기 어려움 | 체인을 사용하면 확장 가능성이 높고, 구성 요소를 쉽게 추가 가능 |\n"
   ]
  }
 ],
 "metadata": {
  "kernelspec": {
   "display_name": "langchain-env",
   "language": "python",
   "name": "python3"
  },
  "language_info": {
   "codemirror_mode": {
    "name": "ipython",
    "version": 3
   },
   "file_extension": ".py",
   "mimetype": "text/x-python",
   "name": "python",
   "nbconvert_exporter": "python",
   "pygments_lexer": "ipython3",
   "version": "3.11.11"
  }
 },
 "nbformat": 4,
 "nbformat_minor": 2
}
